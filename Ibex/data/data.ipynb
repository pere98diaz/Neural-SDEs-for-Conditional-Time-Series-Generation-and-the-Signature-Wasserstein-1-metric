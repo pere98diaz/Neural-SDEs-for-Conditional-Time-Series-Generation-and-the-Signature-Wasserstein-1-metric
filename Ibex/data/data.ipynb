{
 "cells": [
  {
   "cell_type": "code",
   "execution_count": 1,
   "id": "fdb62708",
   "metadata": {},
   "outputs": [],
   "source": [
    "import sys\n",
    "sys.path.append('../')\n",
    "import torch\n",
    "import pandas as pd\n",
    "import matplotlib.pyplot as plt\n",
    "import numpy as np\n",
    "import yfinance as yf\n",
    "\n",
    "pd.options.mode.chained_assignment = None\n",
    "pd.set_option('display.max_rows', None)"
   ]
  },
  {
   "cell_type": "code",
   "execution_count": 2,
   "id": "f4b26e61",
   "metadata": {},
   "outputs": [
    {
     "data": {
      "text/html": [
       "<div>\n",
       "<style scoped>\n",
       "    .dataframe tbody tr th:only-of-type {\n",
       "        vertical-align: middle;\n",
       "    }\n",
       "\n",
       "    .dataframe tbody tr th {\n",
       "        vertical-align: top;\n",
       "    }\n",
       "\n",
       "    .dataframe thead th {\n",
       "        text-align: right;\n",
       "    }\n",
       "</style>\n",
       "<table border=\"1\" class=\"dataframe\">\n",
       "  <thead>\n",
       "    <tr style=\"text-align: right;\">\n",
       "      <th></th>\n",
       "      <th>Open</th>\n",
       "      <th>High</th>\n",
       "      <th>Low</th>\n",
       "      <th>Close</th>\n",
       "      <th>Volume</th>\n",
       "      <th>Dividends</th>\n",
       "      <th>Stock Splits</th>\n",
       "    </tr>\n",
       "    <tr>\n",
       "      <th>Date</th>\n",
       "      <th></th>\n",
       "      <th></th>\n",
       "      <th></th>\n",
       "      <th></th>\n",
       "      <th></th>\n",
       "      <th></th>\n",
       "      <th></th>\n",
       "    </tr>\n",
       "  </thead>\n",
       "  <tbody>\n",
       "    <tr>\n",
       "      <th>1993-07-12</th>\n",
       "      <td>2826.797119</td>\n",
       "      <td>2826.797119</td>\n",
       "      <td>2814.597180</td>\n",
       "      <td>2826.396973</td>\n",
       "      <td>0</td>\n",
       "      <td>0</td>\n",
       "      <td>0</td>\n",
       "    </tr>\n",
       "    <tr>\n",
       "      <th>1993-07-13</th>\n",
       "      <td>2826.396990</td>\n",
       "      <td>2843.697021</td>\n",
       "      <td>2820.896996</td>\n",
       "      <td>2843.396973</td>\n",
       "      <td>0</td>\n",
       "      <td>0</td>\n",
       "      <td>0</td>\n",
       "    </tr>\n",
       "    <tr>\n",
       "      <th>1993-07-14</th>\n",
       "      <td>2845.396979</td>\n",
       "      <td>2858.396965</td>\n",
       "      <td>2845.396979</td>\n",
       "      <td>2851.097168</td>\n",
       "      <td>0</td>\n",
       "      <td>0</td>\n",
       "      <td>0</td>\n",
       "    </tr>\n",
       "    <tr>\n",
       "      <th>1993-07-15</th>\n",
       "      <td>2848.697016</td>\n",
       "      <td>2848.697016</td>\n",
       "      <td>2834.997079</td>\n",
       "      <td>2843.697021</td>\n",
       "      <td>0</td>\n",
       "      <td>0</td>\n",
       "      <td>0</td>\n",
       "    </tr>\n",
       "    <tr>\n",
       "      <th>1993-07-16</th>\n",
       "      <td>2843.697008</td>\n",
       "      <td>2847.997052</td>\n",
       "      <td>2818.797131</td>\n",
       "      <td>2830.497070</td>\n",
       "      <td>0</td>\n",
       "      <td>0</td>\n",
       "      <td>0</td>\n",
       "    </tr>\n",
       "  </tbody>\n",
       "</table>\n",
       "</div>"
      ],
      "text/plain": [
       "                   Open         High          Low        Close  Volume  \\\n",
       "Date                                                                     \n",
       "1993-07-12  2826.797119  2826.797119  2814.597180  2826.396973       0   \n",
       "1993-07-13  2826.396990  2843.697021  2820.896996  2843.396973       0   \n",
       "1993-07-14  2845.396979  2858.396965  2845.396979  2851.097168       0   \n",
       "1993-07-15  2848.697016  2848.697016  2834.997079  2843.697021       0   \n",
       "1993-07-16  2843.697008  2847.997052  2818.797131  2830.497070       0   \n",
       "\n",
       "            Dividends  Stock Splits  \n",
       "Date                                 \n",
       "1993-07-12          0             0  \n",
       "1993-07-13          0             0  \n",
       "1993-07-14          0             0  \n",
       "1993-07-15          0             0  \n",
       "1993-07-16          0             0  "
      ]
     },
     "execution_count": 2,
     "metadata": {},
     "output_type": "execute_result"
    }
   ],
   "source": [
    "ibex = yf.Ticker(\"^IBEX\")\n",
    "\n",
    "# get historical market data\n",
    "data = ibex.history(period=\"max\")\n",
    "\n",
    "data.head()"
   ]
  },
  {
   "cell_type": "code",
   "execution_count": 3,
   "id": "7dee9658",
   "metadata": {},
   "outputs": [
    {
     "data": {
      "text/html": [
       "<div>\n",
       "<style scoped>\n",
       "    .dataframe tbody tr th:only-of-type {\n",
       "        vertical-align: middle;\n",
       "    }\n",
       "\n",
       "    .dataframe tbody tr th {\n",
       "        vertical-align: top;\n",
       "    }\n",
       "\n",
       "    .dataframe thead th {\n",
       "        text-align: right;\n",
       "    }\n",
       "</style>\n",
       "<table border=\"1\" class=\"dataframe\">\n",
       "  <thead>\n",
       "    <tr style=\"text-align: right;\">\n",
       "      <th></th>\n",
       "      <th>Close</th>\n",
       "    </tr>\n",
       "    <tr>\n",
       "      <th>Date</th>\n",
       "      <th></th>\n",
       "    </tr>\n",
       "  </thead>\n",
       "  <tbody>\n",
       "    <tr>\n",
       "      <th>2022-10-04</th>\n",
       "      <td>7696.600098</td>\n",
       "    </tr>\n",
       "    <tr>\n",
       "      <th>2022-10-05</th>\n",
       "      <td>7579.899902</td>\n",
       "    </tr>\n",
       "    <tr>\n",
       "      <th>2022-10-06</th>\n",
       "      <td>7511.100098</td>\n",
       "    </tr>\n",
       "    <tr>\n",
       "      <th>2022-10-07</th>\n",
       "      <td>7436.899902</td>\n",
       "    </tr>\n",
       "    <tr>\n",
       "      <th>2022-10-10</th>\n",
       "      <td>7414.600098</td>\n",
       "    </tr>\n",
       "  </tbody>\n",
       "</table>\n",
       "</div>"
      ],
      "text/plain": [
       "                  Close\n",
       "Date                   \n",
       "2022-10-04  7696.600098\n",
       "2022-10-05  7579.899902\n",
       "2022-10-06  7511.100098\n",
       "2022-10-07  7436.899902\n",
       "2022-10-10  7414.600098"
      ]
     },
     "execution_count": 3,
     "metadata": {},
     "output_type": "execute_result"
    }
   ],
   "source": [
    "data = data[['Close']]\n",
    "data.tail()"
   ]
  },
  {
   "cell_type": "code",
   "execution_count": 4,
   "id": "50533f58",
   "metadata": {},
   "outputs": [
    {
     "data": {
      "image/png": "[encoded data removed]",
      "text/plain": [
       "<Figure size 432x288 with 1 Axes>"
      ]
     },
     "metadata": {
      "needs_background": "light"
     },
     "output_type": "display_data"
    }
   ],
   "source": [
    "a = plt.plot(data, linewidth=0.8, alpha=1)\n",
    "a = plt.xlabel('Time')\n",
    "a= plt.ylabel('IBEX35 ($)')\n",
    "a = plt.title('IBEX35 dataset')\n",
    "resolution_value = 600\n",
    "plt.savefig(\"IBEX35.png\", format=\"png\", dpi=resolution_value)"
   ]
  },
  {
   "cell_type": "code",
   "execution_count": 5,
   "id": "fa6c5b65",
   "metadata": {},
   "outputs": [],
   "source": [
    "data.index = pd.DatetimeIndex(data.index)"
   ]
  },
  {
   "cell_type": "code",
   "execution_count": 6,
   "id": "21b9c61f",
   "metadata": {},
   "outputs": [],
   "source": [
    "data_test = data[pd.DatetimeIndex(data.index).year >= 2015]\n",
    "data_test = data[pd.DatetimeIndex(data.index).year >= 2]\n",
    "data_train = data[pd.DatetimeIndex(data.index).year < 2015]"
   ]
  },
  {
   "cell_type": "code",
   "execution_count": 7,
   "id": "78660b32",
   "metadata": {},
   "outputs": [],
   "source": [
    "pre_train = torch.tensor(np.array(data_train[['Close']])).unsqueeze(0)\n",
    "pre_test = torch.tensor(np.array(data_test[['Close']])).unsqueeze(0)"
   ]
  },
  {
   "cell_type": "code",
   "execution_count": 8,
   "id": "463b8975",
   "metadata": {},
   "outputs": [
    {
     "name": "stderr",
     "output_type": "stream",
     "text": [
      "C:\\Users\\pere9\\AppData\\Local\\Temp\\ipykernel_18028\\2442606705.py:5: UserWarning: To copy construct from a tensor, it is recommended to use sourceTensor.clone().detach() or sourceTensor.clone().detach().requires_grad_(True), rather than torch.tensor(sourceTensor).\n",
      "  train.append(torch.tensor(pre_train[:, i:(i+n_x+n_y), :]))\n",
      "C:\\Users\\pere9\\AppData\\Local\\Temp\\ipykernel_18028\\2442606705.py:14: UserWarning: To copy construct from a tensor, it is recommended to use sourceTensor.clone().detach() or sourceTensor.clone().detach().requires_grad_(True), rather than torch.tensor(sourceTensor).\n",
      "  test.append(torch.tensor(pre_test[:, i:(i+n_x+n_y), :]))\n"
     ]
    }
   ],
   "source": [
    "n_x, n_y = 30, 15\n",
    "train = []\n",
    "for i in range(0, pre_train.shape[1]-n_x-n_y):\n",
    "    try:\n",
    "        train.append(torch.tensor(pre_train[:, i:(i+n_x+n_y), :]))\n",
    "    except:\n",
    "        pass\n",
    "\n",
    "train = torch.cat(train, dim=0)\n",
    "\n",
    "test = []\n",
    "for i in range(0, pre_test.shape[1]-n_x-n_y):\n",
    "    try:\n",
    "        test.append(torch.tensor(pre_test[:, i:(i+n_x+n_y), :]))\n",
    "    except:\n",
    "        pass\n",
    "\n",
    "test = torch.cat(test, dim=0)"
   ]
  },
  {
   "cell_type": "code",
   "execution_count": 9,
   "id": "f07b7bcb",
   "metadata": {},
   "outputs": [],
   "source": [
    "from sklearn.model_selection import train_test_split"
   ]
  },
  {
   "cell_type": "code",
   "execution_count": 10,
   "id": "f73d39a9",
   "metadata": {},
   "outputs": [],
   "source": [
    "train, val = train_test_split(train, test_size=0.20, random_state=42)"
   ]
  },
  {
   "cell_type": "code",
   "execution_count": 11,
   "id": "5a5f1352",
   "metadata": {},
   "outputs": [
    {
     "data": {
      "text/plain": [
       "(torch.Size([4296, 45, 1]),\n",
       " torch.Size([1074, 45, 1]),\n",
       " torch.Size([7359, 45, 1]))"
      ]
     },
     "execution_count": 11,
     "metadata": {},
     "output_type": "execute_result"
    }
   ],
   "source": [
    "train.shape, val.shape, test.shape"
   ]
  },
  {
   "cell_type": "code",
   "execution_count": 12,
   "id": "bc990b28",
   "metadata": {},
   "outputs": [],
   "source": [
    "data = {}"
   ]
  },
  {
   "cell_type": "code",
   "execution_count": 13,
   "id": "91da8e6f",
   "metadata": {},
   "outputs": [],
   "source": [
    "data['X_train'], data['Y_train'] = train[:, :n_x, :].float(), train[:, (n_x-1):, :1].float()\n",
    "data['X_val'], data['Y_val'] = val[:, :n_x, :].float(), val[:, (n_x-1):, :1].float()\n",
    "data['X_test'], data['Y_test'] = test[:, :n_x, :].float(), test[:, (n_x-1):, :1].float()"
   ]
  },
  {
   "cell_type": "code",
   "execution_count": 14,
   "id": "b5ebe7b0",
   "metadata": {},
   "outputs": [],
   "source": [
    "data['X_train'] = torch.cat([torch.arange(0, data['X_train'].shape[1]).repeat(\n",
    "    data['X_train'].shape[0], 1).unsqueeze(2), data['X_train']], dim=2)\n",
    "\n",
    "data['Y_train'] = torch.cat([torch.arange(0, data['Y_train'].shape[1]).repeat(\n",
    "    data['Y_train'].shape[0], 1).unsqueeze(2), data['Y_train']], dim=2)\n",
    "\n",
    "data['X_val'] = torch.cat([torch.arange(0, data['X_val'].shape[1]).repeat(\n",
    "    data['X_val'].shape[0], 1).unsqueeze(2), data['X_val']], dim=2)\n",
    "\n",
    "data['Y_val'] = torch.cat([torch.arange(0, data['Y_val'].shape[1]).repeat(\n",
    "    data['Y_val'].shape[0], 1).unsqueeze(2), data['Y_val']], dim=2)\n",
    "\n",
    "data['X_test'] = torch.cat([torch.arange(0, data['X_test'].shape[1]).repeat(\n",
    "    data['X_test'].shape[0], 1).unsqueeze(2), data['X_test']], dim=2)\n",
    "\n",
    "data['Y_test'] = torch.cat([torch.arange(0, data['Y_test'].shape[1]).repeat(\n",
    "    data['Y_test'].shape[0], 1).unsqueeze(2), data['Y_test']], dim=2)"
   ]
  },
  {
   "cell_type": "code",
   "execution_count": 15,
   "id": "65b26933",
   "metadata": {},
   "outputs": [
    {
     "data": {
      "text/plain": [
       "[<matplotlib.lines.Line2D at 0x178a0d14700>]"
      ]
     },
     "execution_count": 15,
     "metadata": {},
     "output_type": "execute_result"
    },
    {
     "data": {
      "image/png": "[encoded data removed]",
      "text/plain": [
       "<Figure size 432x288 with 1 Axes>"
      ]
     },
     "metadata": {
      "needs_background": "light"
     },
     "output_type": "display_data"
    }
   ],
   "source": [
    "plt.plot(data['X_train'][0, :, 1])\n",
    "plt.plot(data['X_train'][0, -1, 0]+data['Y_train'][0, :, 0], data['Y_train'][0, :, 1])"
   ]
  },
  {
   "cell_type": "code",
   "execution_count": 16,
   "id": "3fed36a4",
   "metadata": {},
   "outputs": [],
   "source": [
    "# We normalize the data\n",
    "mean, std = data['X_train'][:, :, 1].mean(), data['X_train'][:, :, 1].std()\n",
    "\n",
    "for dataset in data:\n",
    "    data[dataset][:, :, 1] = (data[dataset][:, :, 1]-mean)/std"
   ]
  },
  {
   "cell_type": "code",
   "execution_count": 17,
   "id": "e2a1e7be",
   "metadata": {},
   "outputs": [
    {
     "data": {
      "text/plain": [
       "[<matplotlib.lines.Line2D at 0x178a0f12a10>]"
      ]
     },
     "execution_count": 17,
     "metadata": {},
     "output_type": "execute_result"
    },
    {
     "data": {
      "image/png": "[encoded data removed]",
      "text/plain": [
       "<Figure size 432x288 with 1 Axes>"
      ]
     },
     "metadata": {
      "needs_background": "light"
     },
     "output_type": "display_data"
    }
   ],
   "source": [
    "i=100\n",
    "plt.plot(data['X_train'][i, :, 1])\n",
    "plt.plot(data['X_train'][0, -1, 0]+data['Y_train'][0, :, 0], data['Y_train'][i, :, 1])"
   ]
  },
  {
   "cell_type": "code",
   "execution_count": 18,
   "id": "2a72c9ea",
   "metadata": {},
   "outputs": [],
   "source": [
    "stats = {'mean': mean, 'std': std}"
   ]
  },
  {
   "cell_type": "code",
   "execution_count": 19,
   "id": "de9365de",
   "metadata": {},
   "outputs": [],
   "source": [
    "torch.save(stats, 'stats_data.pt')"
   ]
  },
  {
   "cell_type": "code",
   "execution_count": 20,
   "id": "1ae65a31",
   "metadata": {},
   "outputs": [],
   "source": [
    "torch.save(data, 'data.pt')"
   ]
  },
  {
   "cell_type": "markdown",
   "id": "0e874eb6",
   "metadata": {},
   "source": [
    "### Some data analysis"
   ]
  },
  {
   "cell_type": "code",
   "execution_count": 21,
   "id": "aeff7dc2",
   "metadata": {},
   "outputs": [],
   "source": [
    "stats_data = torch.load('stats_data.pt')"
   ]
  },
  {
   "cell_type": "code",
   "execution_count": 22,
   "id": "36003f9d",
   "metadata": {},
   "outputs": [
    {
     "data": {
      "text/plain": [
       "{'mean': tensor(8674.5107), 'std': tensor(3020.3215)}"
      ]
     },
     "execution_count": 22,
     "metadata": {},
     "output_type": "execute_result"
    }
   ],
   "source": [
    "stats_data"
   ]
  },
  {
   "cell_type": "code",
   "execution_count": 23,
   "id": "591e7c3c",
   "metadata": {},
   "outputs": [],
   "source": [
    "x = data['X_train'][:, -1:, 1:]*stats_data['std']+stats_data['mean']\n",
    "y = data['Y_train'][:, 1:, 1:]*stats_data['std']+stats_data['mean']"
   ]
  },
  {
   "cell_type": "code",
   "execution_count": 24,
   "id": "a2adbbcb",
   "metadata": {},
   "outputs": [],
   "source": [
    "inc = torch.ones(y.shape)*x\n",
    "inc_ = (y-inc)/inc\n",
    "inc_max = torch.max(inc_, dim=1)[0].squeeze(1)"
   ]
  },
  {
   "cell_type": "code",
   "execution_count": 25,
   "id": "63ccd3a5",
   "metadata": {},
   "outputs": [
    {
     "data": {
      "image/png": "[encoded data removed]",
      "text/plain": [
       "<Figure size 432x288 with 1 Axes>"
      ]
     },
     "metadata": {
      "needs_background": "light"
     },
     "output_type": "display_data"
    }
   ],
   "source": [
    "a = plt.hist(inc_max.numpy(), bins=100)"
   ]
  },
  {
   "cell_type": "code",
   "execution_count": 26,
   "id": "732405fc",
   "metadata": {},
   "outputs": [
    {
     "data": {
      "text/plain": [
       "0.09710417501628399"
      ]
     },
     "execution_count": 26,
     "metadata": {},
     "output_type": "execute_result"
    }
   ],
   "source": [
    "np.quantile(inc_max, 0.95)"
   ]
  },
  {
   "cell_type": "code",
   "execution_count": 27,
   "id": "33972c5f",
   "metadata": {},
   "outputs": [],
   "source": [
    "inc_min = torch.min(inc_, dim=1)[0].squeeze(1)"
   ]
  },
  {
   "cell_type": "code",
   "execution_count": 28,
   "id": "b96086b8",
   "metadata": {},
   "outputs": [
    {
     "data": {
      "image/png": "[encoded data removed]",
      "text/plain": [
       "<Figure size 432x288 with 1 Axes>"
      ]
     },
     "metadata": {
      "needs_background": "light"
     },
     "output_type": "display_data"
    }
   ],
   "source": [
    "a = plt.hist(inc_min.numpy(), bins=100)"
   ]
  },
  {
   "cell_type": "code",
   "execution_count": 29,
   "id": "e52a7958",
   "metadata": {},
   "outputs": [
    {
     "data": {
      "text/plain": [
       "-0.10442594811320305"
      ]
     },
     "execution_count": 29,
     "metadata": {},
     "output_type": "execute_result"
    }
   ],
   "source": [
    "np.quantile(inc_min, 0.05)"
   ]
  }
 ],
 "metadata": {
  "kernelspec": {
   "display_name": "Python 3 (ipykernel)",
   "language": "python",
   "name": "python3"
  },
  "language_info": {
   "codemirror_mode": {
    "name": "ipython",
    "version": 3
   },
   "file_extension": ".py",
   "mimetype": "text/x-python",
   "name": "python",
   "nbconvert_exporter": "python",
   "pygments_lexer": "ipython3",
   "version": "3.10.4"
  }
 },
 "nbformat": 4,
 "nbformat_minor": 5
}
