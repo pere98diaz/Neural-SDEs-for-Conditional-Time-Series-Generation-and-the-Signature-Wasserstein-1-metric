{
 "cells": [
  {
   "cell_type": "code",
   "execution_count": 14,
   "id": "d154dce5",
   "metadata": {},
   "outputs": [],
   "source": [
    "import sys\n",
    "sys.path.append('../')\n",
    "import torch\n",
    "import pandas as pd\n",
    "import matplotlib.pyplot as plt\n",
    "import numpy as np\n",
    "import torchcde\n",
    "pd.options.mode.chained_assignment = None"
   ]
  },
  {
   "cell_type": "code",
   "execution_count": 2,
   "id": "e772e1f6",
   "metadata": {},
   "outputs": [],
   "source": [
    "torch.set_printoptions(precision=5, sci_mode=False)\n",
    "np.set_printoptions(suppress=True)"
   ]
  },
  {
   "cell_type": "code",
   "execution_count": 3,
   "id": "f689a3b2",
   "metadata": {},
   "outputs": [],
   "source": [
    "data_1 = pd.read_csv(\"EURODOLLAR19.csv\", encoding = \"UTF-16 LE\",  parse_dates=['DateTime'])\n",
    "data_2 = pd.read_csv(\"EURODOLLAR20.csv\", encoding = \"UTF-16 LE\",  parse_dates=['DateTime'])\n",
    "data = pd.concat([data_1, data_2], axis=0)"
   ]
  },
  {
   "cell_type": "code",
   "execution_count": 4,
   "id": "6eb6eb2c",
   "metadata": {},
   "outputs": [],
   "source": [
    "data =data.reset_index()"
   ]
  },
  {
   "cell_type": "code",
   "execution_count": 5,
   "id": "faa73900",
   "metadata": {},
   "outputs": [
    {
     "data": {
      "text/plain": [
       "(2527762, 4)"
      ]
     },
     "execution_count": 5,
     "metadata": {},
     "output_type": "execute_result"
    }
   ],
   "source": [
    "data.shape"
   ]
  },
  {
   "cell_type": "code",
   "execution_count": 6,
   "id": "feace80f",
   "metadata": {},
   "outputs": [
    {
     "data": {
      "text/plain": [
       "[<matplotlib.lines.Line2D at 0x1cf51753940>]"
      ]
     },
     "execution_count": 6,
     "metadata": {},
     "output_type": "execute_result"
    },
    {
     "data": {
      "image/png": "[encoded data removed]",
      "text/plain": [
       "<Figure size 432x288 with 1 Axes>"
      ]
     },
     "metadata": {
      "needs_background": "light"
     },
     "output_type": "display_data"
    }
   ],
   "source": [
    "plt.plot(data['Bid'])"
   ]
  },
  {
   "cell_type": "code",
   "execution_count": 7,
   "id": "c61e7402",
   "metadata": {},
   "outputs": [],
   "source": [
    "data = data.drop(['Bid', 'index'], axis=1)"
   ]
  },
  {
   "cell_type": "code",
   "execution_count": 8,
   "id": "537b379a",
   "metadata": {},
   "outputs": [],
   "source": [
    "data_ = data.groupby(pd.Grouper(key='DateTime', freq='30s')).mean()"
   ]
  },
  {
   "cell_type": "code",
   "execution_count": 9,
   "id": "a73efaaa",
   "metadata": {},
   "outputs": [
    {
     "data": {
      "text/plain": [
       "(34553, 1)"
      ]
     },
     "execution_count": 9,
     "metadata": {},
     "output_type": "execute_result"
    }
   ],
   "source": [
    "data_.shape"
   ]
  },
  {
   "cell_type": "code",
   "execution_count": 10,
   "id": "0134ca85",
   "metadata": {},
   "outputs": [
    {
     "data": {
      "text/html": [
       "<div>\n",
       "<style scoped>\n",
       "    .dataframe tbody tr th:only-of-type {\n",
       "        vertical-align: middle;\n",
       "    }\n",
       "\n",
       "    .dataframe tbody tr th {\n",
       "        vertical-align: top;\n",
       "    }\n",
       "\n",
       "    .dataframe thead th {\n",
       "        text-align: right;\n",
       "    }\n",
       "</style>\n",
       "<table border=\"1\" class=\"dataframe\">\n",
       "  <thead>\n",
       "    <tr style=\"text-align: right;\">\n",
       "      <th></th>\n",
       "      <th>Ask</th>\n",
       "    </tr>\n",
       "    <tr>\n",
       "      <th>DateTime</th>\n",
       "      <th></th>\n",
       "    </tr>\n",
       "  </thead>\n",
       "  <tbody>\n",
       "    <tr>\n",
       "      <th>2020-05-03 21:03:00</th>\n",
       "      <td>1.097473</td>\n",
       "    </tr>\n",
       "    <tr>\n",
       "      <th>2020-05-03 21:03:30</th>\n",
       "      <td>1.097405</td>\n",
       "    </tr>\n",
       "    <tr>\n",
       "      <th>2020-05-03 21:04:00</th>\n",
       "      <td>NaN</td>\n",
       "    </tr>\n",
       "    <tr>\n",
       "      <th>2020-05-03 21:04:30</th>\n",
       "      <td>1.097420</td>\n",
       "    </tr>\n",
       "    <tr>\n",
       "      <th>2020-05-03 21:05:00</th>\n",
       "      <td>1.097552</td>\n",
       "    </tr>\n",
       "  </tbody>\n",
       "</table>\n",
       "</div>"
      ],
      "text/plain": [
       "                          Ask\n",
       "DateTime                     \n",
       "2020-05-03 21:03:00  1.097473\n",
       "2020-05-03 21:03:30  1.097405\n",
       "2020-05-03 21:04:00       NaN\n",
       "2020-05-03 21:04:30  1.097420\n",
       "2020-05-03 21:05:00  1.097552"
      ]
     },
     "execution_count": 10,
     "metadata": {},
     "output_type": "execute_result"
    }
   ],
   "source": [
    "data_.head()"
   ]
  },
  {
   "cell_type": "code",
   "execution_count": 11,
   "id": "bb3bf163",
   "metadata": {},
   "outputs": [
    {
     "data": {
      "text/plain": [
       "6252"
      ]
     },
     "execution_count": 11,
     "metadata": {},
     "output_type": "execute_result"
    }
   ],
   "source": [
    "data_['Ask'].isnull().sum()"
   ]
  },
  {
   "cell_type": "code",
   "execution_count": 12,
   "id": "590d2fa2",
   "metadata": {},
   "outputs": [],
   "source": [
    "data_torch = torch.tensor(np.array(data_))"
   ]
  },
  {
   "cell_type": "code",
   "execution_count": 15,
   "id": "7974e781",
   "metadata": {},
   "outputs": [],
   "source": [
    "coeffs = torchcde.linear_interpolation_coeffs(data_torch)\n",
    "X = torchcde.LinearInterpolation(coeffs)"
   ]
  },
  {
   "cell_type": "code",
   "execution_count": 16,
   "id": "7239fcb1",
   "metadata": {},
   "outputs": [],
   "source": [
    "X_eval = X.evaluate(torch.arange(0, data_torch.shape[0]))"
   ]
  },
  {
   "cell_type": "code",
   "execution_count": 17,
   "id": "7723d627",
   "metadata": {},
   "outputs": [
    {
     "data": {
      "text/html": [
       "<div>\n",
       "<style scoped>\n",
       "    .dataframe tbody tr th:only-of-type {\n",
       "        vertical-align: middle;\n",
       "    }\n",
       "\n",
       "    .dataframe tbody tr th {\n",
       "        vertical-align: top;\n",
       "    }\n",
       "\n",
       "    .dataframe thead th {\n",
       "        text-align: right;\n",
       "    }\n",
       "</style>\n",
       "<table border=\"1\" class=\"dataframe\">\n",
       "  <thead>\n",
       "    <tr style=\"text-align: right;\">\n",
       "      <th></th>\n",
       "      <th>Ask</th>\n",
       "    </tr>\n",
       "    <tr>\n",
       "      <th>DateTime</th>\n",
       "      <th></th>\n",
       "    </tr>\n",
       "  </thead>\n",
       "  <tbody>\n",
       "    <tr>\n",
       "      <th>2020-05-15 20:57:00</th>\n",
       "      <td>1.082123</td>\n",
       "    </tr>\n",
       "    <tr>\n",
       "      <th>2020-05-15 20:57:30</th>\n",
       "      <td>1.082096</td>\n",
       "    </tr>\n",
       "    <tr>\n",
       "      <th>2020-05-15 20:58:00</th>\n",
       "      <td>1.082172</td>\n",
       "    </tr>\n",
       "    <tr>\n",
       "      <th>2020-05-15 20:58:30</th>\n",
       "      <td>1.082178</td>\n",
       "    </tr>\n",
       "    <tr>\n",
       "      <th>2020-05-15 20:59:00</th>\n",
       "      <td>1.082260</td>\n",
       "    </tr>\n",
       "  </tbody>\n",
       "</table>\n",
       "</div>"
      ],
      "text/plain": [
       "                          Ask\n",
       "DateTime                     \n",
       "2020-05-15 20:57:00  1.082123\n",
       "2020-05-15 20:57:30  1.082096\n",
       "2020-05-15 20:58:00  1.082172\n",
       "2020-05-15 20:58:30  1.082178\n",
       "2020-05-15 20:59:00  1.082260"
      ]
     },
     "execution_count": 17,
     "metadata": {},
     "output_type": "execute_result"
    }
   ],
   "source": [
    "data_.tail()"
   ]
  },
  {
   "cell_type": "code",
   "execution_count": 18,
   "id": "1d32c1b1",
   "metadata": {},
   "outputs": [
    {
     "data": {
      "text/plain": [
       "tensor([], dtype=torch.float64)"
      ]
     },
     "execution_count": 18,
     "metadata": {},
     "output_type": "execute_result"
    }
   ],
   "source": [
    "X_eval[torch.isnan(X_eval)]"
   ]
  },
  {
   "cell_type": "code",
   "execution_count": 19,
   "id": "e1f5e074",
   "metadata": {},
   "outputs": [
    {
     "data": {
      "text/plain": [
       "torch.Size([1, 34553, 1])"
      ]
     },
     "execution_count": 19,
     "metadata": {},
     "output_type": "execute_result"
    }
   ],
   "source": [
    "X_eval = X_eval.unsqueeze(0)\n",
    "X_eval.shape"
   ]
  },
  {
   "cell_type": "code",
   "execution_count": 20,
   "id": "2d5ac821",
   "metadata": {},
   "outputs": [
    {
     "name": "stderr",
     "output_type": "stream",
     "text": [
      "C:\\Users\\pere9\\AppData\\Local\\Temp\\ipykernel_20576\\1648589457.py:5: UserWarning: To copy construct from a tensor, it is recommended to use sourceTensor.clone().detach() or sourceTensor.clone().detach().requires_grad_(True), rather than torch.tensor(sourceTensor).\n",
      "  data_tensor.append(torch.tensor(X_eval[:, i:(i+n_x+n_y), :]))\n"
     ]
    }
   ],
   "source": [
    "n_x, n_y = 80, 80\n",
    "data_tensor = []\n",
    "for i in range(0, X_eval.shape[1]-n_x-n_y):\n",
    "    try:\n",
    "        data_tensor.append(torch.tensor(X_eval[:, i:(i+n_x+n_y), :]))\n",
    "    except:\n",
    "        pass\n",
    "\n",
    "data_tensor = torch.cat(data_tensor, dim=0)"
   ]
  },
  {
   "cell_type": "code",
   "execution_count": 21,
   "id": "6f085fa4",
   "metadata": {},
   "outputs": [
    {
     "data": {
      "text/plain": [
       "torch.Size([34393, 160, 1])"
      ]
     },
     "execution_count": 21,
     "metadata": {},
     "output_type": "execute_result"
    }
   ],
   "source": [
    "data_tensor.shape"
   ]
  },
  {
   "cell_type": "code",
   "execution_count": 22,
   "id": "85220324",
   "metadata": {},
   "outputs": [],
   "source": [
    "test = data_tensor[20000:30000]\n",
    "data_tensor = data_tensor[:20000]"
   ]
  },
  {
   "cell_type": "code",
   "execution_count": 23,
   "id": "1b1c82d4",
   "metadata": {},
   "outputs": [],
   "source": [
    "from sklearn.model_selection import train_test_split"
   ]
  },
  {
   "cell_type": "code",
   "execution_count": 24,
   "id": "6436e49d",
   "metadata": {},
   "outputs": [],
   "source": [
    "train, val = train_test_split(data_tensor, test_size=0.25, random_state=42)"
   ]
  },
  {
   "cell_type": "code",
   "execution_count": 25,
   "id": "92095e83",
   "metadata": {},
   "outputs": [
    {
     "data": {
      "text/plain": [
       "(torch.Size([15000, 160, 1]),\n",
       " torch.Size([5000, 160, 1]),\n",
       " torch.Size([10000, 160, 1]))"
      ]
     },
     "execution_count": 25,
     "metadata": {},
     "output_type": "execute_result"
    }
   ],
   "source": [
    "train.shape, val.shape, test.shape"
   ]
  },
  {
   "cell_type": "code",
   "execution_count": 26,
   "id": "5ba87e95",
   "metadata": {},
   "outputs": [],
   "source": [
    "data = {}"
   ]
  },
  {
   "cell_type": "code",
   "execution_count": 27,
   "id": "a8bcc02d",
   "metadata": {},
   "outputs": [],
   "source": [
    "data['X_train'], data['Y_train'] = train[:, :n_x, :1], train[:, (n_x-1):, :1]\n",
    "data['X_val'], data['Y_val'] = val[:, :n_x, :1], val[:, (n_x-1):, :1]\n",
    "data['X_test'], data['Y_test'] = test[:, :n_x, :1], test[:, (n_x-1):, :1]"
   ]
  },
  {
   "cell_type": "code",
   "execution_count": 28,
   "id": "90f95ce2",
   "metadata": {},
   "outputs": [],
   "source": [
    "data['X_train'] = torch.cat([torch.arange(0, data['X_train'].shape[1]).repeat(\n",
    "    data['X_train'].shape[0], 1).unsqueeze(2), data['X_train']], dim=2)\n",
    "\n",
    "data['Y_train'] = torch.cat([torch.arange(0, data['Y_train'].shape[1]).repeat(\n",
    "    data['Y_train'].shape[0], 1).unsqueeze(2), data['Y_train']], dim=2)\n",
    "\n",
    "data['X_val'] = torch.cat([torch.arange(0, data['X_val'].shape[1]).repeat(\n",
    "    data['X_val'].shape[0], 1).unsqueeze(2), data['X_val']], dim=2)\n",
    "\n",
    "data['Y_val'] = torch.cat([torch.arange(0, data['Y_val'].shape[1]).repeat(\n",
    "    data['Y_val'].shape[0], 1).unsqueeze(2), data['Y_val']], dim=2)\n",
    "\n",
    "data['X_test'] = torch.cat([torch.arange(0, data['X_test'].shape[1]).repeat(\n",
    "    data['X_test'].shape[0], 1).unsqueeze(2), data['X_test']], dim=2)\n",
    "\n",
    "data['Y_test'] = torch.cat([torch.arange(0, data['Y_test'].shape[1]).repeat(\n",
    "    data['Y_test'].shape[0], 1).unsqueeze(2), data['Y_test']], dim=2)"
   ]
  },
  {
   "cell_type": "code",
   "execution_count": 29,
   "id": "3c59ab3a",
   "metadata": {},
   "outputs": [],
   "source": [
    "data_or = {}"
   ]
  },
  {
   "cell_type": "code",
   "execution_count": 30,
   "id": "b0eeb357",
   "metadata": {},
   "outputs": [],
   "source": [
    "for dataset in data:\n",
    "    data_or[dataset] = torch.clone(data[dataset])\n",
    "    data[dataset][:, :, 1] = torch.log(data[dataset][:, :, 1]).float()"
   ]
  },
  {
   "cell_type": "code",
   "execution_count": 31,
   "id": "7d5ed49c",
   "metadata": {},
   "outputs": [
    {
     "data": {
      "text/plain": [
       "[<matplotlib.lines.Line2D at 0x1cf5132b790>]"
      ]
     },
     "execution_count": 31,
     "metadata": {},
     "output_type": "execute_result"
    },
    {
     "data": {
      "image/png": "[encoded data removed]",
      "text/plain": [
       "<Figure size 432x288 with 1 Axes>"
      ]
     },
     "metadata": {
      "needs_background": "light"
     },
     "output_type": "display_data"
    }
   ],
   "source": [
    "plt.plot(data['X_train'][0, :, 1])\n",
    "plt.plot(data['X_train'][0, -1, 0]+data['Y_train'][0, :, 0], data['Y_train'][0, :, 1])"
   ]
  },
  {
   "cell_type": "code",
   "execution_count": 32,
   "id": "c5e26976",
   "metadata": {},
   "outputs": [],
   "source": [
    "mean_logprice, std_logprice = data['X_train'][:, :, 1].mean(), data['X_train'][:, :, 1].std()"
   ]
  },
  {
   "cell_type": "code",
   "execution_count": 33,
   "id": "979081a8",
   "metadata": {},
   "outputs": [],
   "source": [
    "stats_data = {'mean': mean_logprice, 'std': std_logprice}\n",
    "torch.save(stats_data, 'stats_data.pt')"
   ]
  },
  {
   "cell_type": "code",
   "execution_count": 34,
   "id": "e1c00b0b",
   "metadata": {},
   "outputs": [],
   "source": [
    "for dataset in data:\n",
    "    data[dataset][:, :, 1] = (data[dataset][:, :, 1]-mean_logprice)/std_logprice"
   ]
  },
  {
   "cell_type": "code",
   "execution_count": 35,
   "id": "97e5ce6e",
   "metadata": {},
   "outputs": [
    {
     "data": {
      "text/plain": [
       "[<matplotlib.lines.Line2D at 0x1cf5139f5b0>]"
      ]
     },
     "execution_count": 35,
     "metadata": {},
     "output_type": "execute_result"
    },
    {
     "data": {
      "image/png": "[encoded data removed]",
      "text/plain": [
       "<Figure size 432x288 with 1 Axes>"
      ]
     },
     "metadata": {
      "needs_background": "light"
     },
     "output_type": "display_data"
    }
   ],
   "source": [
    "i=100\n",
    "plt.plot(data['X_train'][i, :, 1])\n",
    "plt.plot(data['X_train'][0, -1, 0]+data['Y_train'][0, :, 0], data['Y_train'][i, :, 1])"
   ]
  },
  {
   "cell_type": "code",
   "execution_count": 36,
   "id": "d99f1fce",
   "metadata": {},
   "outputs": [],
   "source": [
    "torch.save(data, 'data.pt')"
   ]
  },
  {
   "cell_type": "markdown",
   "id": "e8607e1b",
   "metadata": {},
   "source": [
    "### Some data analysis"
   ]
  },
  {
   "cell_type": "code",
   "execution_count": 37,
   "id": "4722582e",
   "metadata": {},
   "outputs": [],
   "source": [
    "x = data['X_train'][:, -1:, 1:]\n",
    "y = data['Y_train'][:, 1:, 1:]"
   ]
  },
  {
   "cell_type": "code",
   "execution_count": 38,
   "id": "dbfaa18a",
   "metadata": {},
   "outputs": [],
   "source": [
    "inc = torch.ones(y.shape)*x\n",
    "inc_ = y-inc\n",
    "inc_max = torch.max(inc_, dim=1)[0].squeeze(1)"
   ]
  },
  {
   "cell_type": "code",
   "execution_count": 39,
   "id": "0dde0ca7",
   "metadata": {},
   "outputs": [
    {
     "data": {
      "image/png": "[encoded data removed]",
      "text/plain": [
       "<Figure size 432x288 with 1 Axes>"
      ]
     },
     "metadata": {
      "needs_background": "light"
     },
     "output_type": "display_data"
    }
   ],
   "source": [
    "a = plt.hist(inc_max.numpy(), bins=100)"
   ]
  },
  {
   "cell_type": "code",
   "execution_count": 46,
   "id": "764ecd30",
   "metadata": {},
   "outputs": [
    {
     "data": {
      "text/plain": [
       "0.2371344443494352"
      ]
     },
     "execution_count": 46,
     "metadata": {},
     "output_type": "execute_result"
    }
   ],
   "source": [
    "np.quantile(inc_max, 0.90)"
   ]
  },
  {
   "cell_type": "code",
   "execution_count": 41,
   "id": "973dbf9d",
   "metadata": {},
   "outputs": [],
   "source": [
    "inc_min = torch.min(inc_, dim=1)[0].squeeze(1)"
   ]
  },
  {
   "cell_type": "code",
   "execution_count": 42,
   "id": "73f95057",
   "metadata": {},
   "outputs": [
    {
     "data": {
      "image/png": "[encoded data removed]",
      "text/plain": [
       "<Figure size 432x288 with 1 Axes>"
      ]
     },
     "metadata": {
      "needs_background": "light"
     },
     "output_type": "display_data"
    }
   ],
   "source": [
    "a = plt.hist(inc_min.numpy(), bins=100)"
   ]
  },
  {
   "cell_type": "code",
   "execution_count": 43,
   "id": "5d9ddb45",
   "metadata": {},
   "outputs": [
    {
     "data": {
      "text/plain": [
       "-0.25124528959291265"
      ]
     },
     "execution_count": 43,
     "metadata": {},
     "output_type": "execute_result"
    }
   ],
   "source": [
    "np.quantile(inc_min, 0.10)"
   ]
  },
  {
   "cell_type": "code",
   "execution_count": null,
   "id": "552c30c5",
   "metadata": {},
   "outputs": [],
   "source": []
  }
 ],
 "metadata": {
  "kernelspec": {
   "display_name": "Python 3 (ipykernel)",
   "language": "python",
   "name": "python3"
  },
  "language_info": {
   "codemirror_mode": {
    "name": "ipython",
    "version": 3
   },
   "file_extension": ".py",
   "mimetype": "text/x-python",
   "name": "python",
   "nbconvert_exporter": "python",
   "pygments_lexer": "ipython3",
   "version": "3.10.4"
  }
 },
 "nbformat": 4,
 "nbformat_minor": 5
}
