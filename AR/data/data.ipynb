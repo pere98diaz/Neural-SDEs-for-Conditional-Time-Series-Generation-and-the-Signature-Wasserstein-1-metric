{
 "cells": [
  {
   "cell_type": "code",
   "execution_count": 1,
   "id": "5a7cfbf1",
   "metadata": {},
   "outputs": [],
   "source": [
    "import sys\n",
    "sys.path.append('../')\n",
    "import torch\n",
    "import pandas as pd\n",
    "import matplotlib.pyplot as plt\n",
    "import numpy as np"
   ]
  },
  {
   "cell_type": "code",
   "execution_count": 2,
   "id": "f3b3f092",
   "metadata": {},
   "outputs": [],
   "source": [
    "data = torch.tensor(np.array(pd.read_csv('ar data.csv'))[:, 1:]).float()"
   ]
  },
  {
   "cell_type": "code",
   "execution_count": 3,
   "id": "d5d957b8",
   "metadata": {},
   "outputs": [
    {
     "data": {
      "text/plain": [
       "torch.Size([30000, 1])"
      ]
     },
     "execution_count": 3,
     "metadata": {},
     "output_type": "execute_result"
    }
   ],
   "source": [
    "data.shape"
   ]
  },
  {
   "cell_type": "code",
   "execution_count": 4,
   "id": "837046f4",
   "metadata": {},
   "outputs": [],
   "source": [
    "pre_train, pre_val, pre_test = data[:15000], data[15000:17500], data[17500:]"
   ]
  },
  {
   "cell_type": "code",
   "execution_count": 5,
   "id": "6956ab31",
   "metadata": {},
   "outputs": [
    {
     "name": "stderr",
     "output_type": "stream",
     "text": [
      "C:\\Users\\pere9\\AppData\\Local\\Temp\\ipykernel_17880\\1497678788.py:5: UserWarning: To copy construct from a tensor, it is recommended to use sourceTensor.clone().detach() or sourceTensor.clone().detach().requires_grad_(True), rather than torch.tensor(sourceTensor).\n",
      "  train.append(torch.tensor(pre_train[i:(i+n_x+n_y)]))\n",
      "C:\\Users\\pere9\\AppData\\Local\\Temp\\ipykernel_17880\\1497678788.py:14: UserWarning: To copy construct from a tensor, it is recommended to use sourceTensor.clone().detach() or sourceTensor.clone().detach().requires_grad_(True), rather than torch.tensor(sourceTensor).\n",
      "  val.append(torch.tensor(pre_val[i:(i+n_x+n_y)]))\n",
      "C:\\Users\\pere9\\AppData\\Local\\Temp\\ipykernel_17880\\1497678788.py:23: UserWarning: To copy construct from a tensor, it is recommended to use sourceTensor.clone().detach() or sourceTensor.clone().detach().requires_grad_(True), rather than torch.tensor(sourceTensor).\n",
      "  test.append(torch.tensor(pre_test[i:(i+n_x+n_y)]))\n"
     ]
    }
   ],
   "source": [
    "n_x, n_y = 60, 40\n",
    "train = []\n",
    "for i in range(0, pre_train.shape[0]-n_x-n_y):\n",
    "    try:\n",
    "        train.append(torch.tensor(pre_train[i:(i+n_x+n_y)]))\n",
    "    except:\n",
    "        pass\n",
    "\n",
    "train = torch.transpose(torch.cat(train, dim=1), 0, 1)\n",
    "\n",
    "val = []\n",
    "for i in range(0, pre_val.shape[0]-n_x-n_y):\n",
    "    try:\n",
    "        val.append(torch.tensor(pre_val[i:(i+n_x+n_y)]))\n",
    "    except:\n",
    "        pass\n",
    "\n",
    "val = torch.transpose(torch.cat(val, dim=1), 0, 1)\n",
    "\n",
    "test = []\n",
    "for i in range(0, pre_test.shape[0]-n_x-n_y):\n",
    "    try:\n",
    "        test.append(torch.tensor(pre_test[i:(i+n_x+n_y)]))\n",
    "    except:\n",
    "        pass\n",
    "\n",
    "test = torch.transpose(torch.cat(test, dim=1), 0,1)"
   ]
  },
  {
   "cell_type": "code",
   "execution_count": 6,
   "id": "b9179c1a",
   "metadata": {},
   "outputs": [],
   "source": [
    "data = {}"
   ]
  },
  {
   "cell_type": "code",
   "execution_count": 7,
   "id": "685afb38",
   "metadata": {},
   "outputs": [],
   "source": [
    "data['X_train'], data['Y_train'] = train[:, :n_x].unsqueeze(2), train[:, (n_x-1):].unsqueeze(2)\n",
    "data['X_val'], data['Y_val'] = val[:, :n_x].unsqueeze(2), val[:, (n_x-1):].unsqueeze(2)\n",
    "data['X_test'], data['Y_test'] = test[:, :n_x].unsqueeze(2), test[:, (n_x-1):].unsqueeze(2)"
   ]
  },
  {
   "cell_type": "code",
   "execution_count": 8,
   "id": "f177fdaa",
   "metadata": {},
   "outputs": [],
   "source": [
    "data['X_train'] = torch.cat([torch.arange(0, data['X_train'].shape[1]).repeat(\n",
    "    data['X_train'].shape[0], 1).unsqueeze(2), data['X_train']], dim=2)\n",
    "\n",
    "data['Y_train'] = torch.cat([torch.arange(0, data['Y_train'].shape[1]).repeat(\n",
    "    data['Y_train'].shape[0], 1).unsqueeze(2), data['Y_train']], dim=2)\n",
    "\n",
    "data['X_val'] = torch.cat([torch.arange(0, data['X_val'].shape[1]).repeat(\n",
    "    data['X_val'].shape[0], 1).unsqueeze(2), data['X_val']], dim=2)\n",
    "\n",
    "data['Y_val'] = torch.cat([torch.arange(0, data['Y_val'].shape[1]).repeat(\n",
    "    data['Y_val'].shape[0], 1).unsqueeze(2), data['Y_val']], dim=2)\n",
    "\n",
    "data['X_test'] = torch.cat([torch.arange(0, data['X_test'].shape[1]).repeat(\n",
    "    data['X_test'].shape[0], 1).unsqueeze(2), data['X_test']], dim=2)\n",
    "\n",
    "data['Y_test'] = torch.cat([torch.arange(0, data['Y_test'].shape[1]).repeat(\n",
    "    data['Y_test'].shape[0], 1).unsqueeze(2), data['Y_test']], dim=2)"
   ]
  },
  {
   "cell_type": "code",
   "execution_count": 9,
   "id": "9ea91b57",
   "metadata": {},
   "outputs": [],
   "source": [
    "mean, std = data['X_train'][:, :, 1].mean(), data['X_train'][:, :, 1].std()"
   ]
  },
  {
   "cell_type": "code",
   "execution_count": 10,
   "id": "e598832c",
   "metadata": {},
   "outputs": [],
   "source": [
    "stats_data = {}\n",
    "stats_data['mean'], stats_data['std'] = mean, std"
   ]
  },
  {
   "cell_type": "code",
   "execution_count": 11,
   "id": "d1258174",
   "metadata": {},
   "outputs": [],
   "source": [
    "torch.save(stats_data, 'stats_data.pt')"
   ]
  },
  {
   "cell_type": "code",
   "execution_count": 18,
   "id": "18f62a8d",
   "metadata": {},
   "outputs": [],
   "source": [
    "for dataset in data:\n",
    "    data[dataset][:, :, 1] = (data[dataset][:, :, 1]-mean)/std"
   ]
  },
  {
   "cell_type": "code",
   "execution_count": 19,
   "id": "f0c317d6",
   "metadata": {},
   "outputs": [
    {
     "data": {
      "text/plain": [
       "[<matplotlib.lines.Line2D at 0x13b113ac6a0>]"
      ]
     },
     "execution_count": 19,
     "metadata": {},
     "output_type": "execute_result"
    },
    {
     "data": {
      "image/png": "[encoded data removed]",
      "text/plain": [
       "<Figure size 432x288 with 1 Axes>"
      ]
     },
     "metadata": {
      "needs_background": "light"
     },
     "output_type": "display_data"
    }
   ],
   "source": [
    "i = 1\n",
    "plt.plot(data['X_val'][i, :, 0], data['X_val'][i, :, 1])\n",
    "plt.plot(data['Y_val'][i, :, 0]+data['X_val'].shape[1], data['Y_val'][i, :, 1])\n",
    "\n",
    "i = 1000\n",
    "plt.plot(data['X_val'][i, :, 0], data['X_val'][i, :, 1])\n",
    "plt.plot(data['Y_val'][i, :, 0]+data['X_val'].shape[1], data['Y_val'][i, :, 1])"
   ]
  },
  {
   "cell_type": "code",
   "execution_count": 20,
   "id": "876af606",
   "metadata": {},
   "outputs": [],
   "source": [
    "torch.save(data, 'data.pt')"
   ]
  },
  {
   "cell_type": "markdown",
   "id": "d5d9b67b",
   "metadata": {},
   "source": [
    "### Some data analysis"
   ]
  },
  {
   "cell_type": "code",
   "execution_count": 21,
   "id": "9c1cfa9e",
   "metadata": {},
   "outputs": [],
   "source": [
    "x = data['X_train'][:, -1:, 1:]\n",
    "y = data['Y_train'][:, 1:, 1:]"
   ]
  },
  {
   "cell_type": "code",
   "execution_count": 22,
   "id": "bbdcdc85",
   "metadata": {},
   "outputs": [],
   "source": [
    "inc = torch.ones(y.shape)*x\n",
    "inc_ = y-inc\n",
    "inc_max = torch.max(inc_, dim=1)[0].squeeze(1)"
   ]
  },
  {
   "cell_type": "code",
   "execution_count": 23,
   "id": "6aaa8a10",
   "metadata": {},
   "outputs": [
    {
     "data": {
      "image/png": "[encoded data removed]",
      "text/plain": [
       "<Figure size 432x288 with 1 Axes>"
      ]
     },
     "metadata": {
      "needs_background": "light"
     },
     "output_type": "display_data"
    }
   ],
   "source": [
    "a = plt.hist(inc_max.numpy(), bins=100)"
   ]
  },
  {
   "cell_type": "code",
   "execution_count": 24,
   "id": "d5389cb3",
   "metadata": {},
   "outputs": [
    {
     "data": {
      "text/plain": [
       "4.87627115249634"
      ]
     },
     "execution_count": 24,
     "metadata": {},
     "output_type": "execute_result"
    }
   ],
   "source": [
    "np.quantile(inc_max, 0.99)"
   ]
  },
  {
   "cell_type": "code",
   "execution_count": 25,
   "id": "3047bfc2",
   "metadata": {},
   "outputs": [],
   "source": [
    "inc_min = torch.min(inc_, dim=1)[0].squeeze(1)"
   ]
  },
  {
   "cell_type": "code",
   "execution_count": 26,
   "id": "79bcf18a",
   "metadata": {},
   "outputs": [
    {
     "data": {
      "image/png": "[encoded data removed]",
      "text/plain": [
       "<Figure size 432x288 with 1 Axes>"
      ]
     },
     "metadata": {
      "needs_background": "light"
     },
     "output_type": "display_data"
    }
   ],
   "source": [
    "a = plt.hist(inc_min.numpy(), bins=100)"
   ]
  },
  {
   "cell_type": "code",
   "execution_count": 27,
   "id": "75709344",
   "metadata": {},
   "outputs": [
    {
     "data": {
      "text/plain": [
       "-4.864749345779419"
      ]
     },
     "execution_count": 27,
     "metadata": {},
     "output_type": "execute_result"
    }
   ],
   "source": [
    "np.quantile(inc_min, 0.01)"
   ]
  },
  {
   "cell_type": "code",
   "execution_count": null,
   "id": "87db508b",
   "metadata": {},
   "outputs": [],
   "source": []
  }
 ],
 "metadata": {
  "kernelspec": {
   "display_name": "Python 3 (ipykernel)",
   "language": "python",
   "name": "python3"
  },
  "language_info": {
   "codemirror_mode": {
    "name": "ipython",
    "version": 3
   },
   "file_extension": ".py",
   "mimetype": "text/x-python",
   "name": "python",
   "nbconvert_exporter": "python",
   "pygments_lexer": "ipython3",
   "version": "3.8.13"
  }
 },
 "nbformat": 4,
 "nbformat_minor": 5
}
