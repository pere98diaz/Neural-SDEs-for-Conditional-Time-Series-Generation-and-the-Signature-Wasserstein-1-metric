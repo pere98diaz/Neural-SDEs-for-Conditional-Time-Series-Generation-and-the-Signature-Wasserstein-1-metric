{
 "cells": [
  {
   "cell_type": "code",
   "execution_count": 1,
   "id": "bfd29cce",
   "metadata": {},
   "outputs": [],
   "source": [
    "import sys\n",
    "sys.path.append('../../../')\n",
    "import matplotlib.pyplot as plt\n",
    "import torch\n",
    "from torch.utils.data import TensorDataset, DataLoader\n",
    "from tqdm import tqdm\n",
    "import numpy as np\n",
    "from time import time\n",
    "\n",
    "is_cuda = torch.cuda.is_available()\n",
    "device = 'cuda' if is_cuda else 'cpu'\n",
    "if not is_cuda:\n",
    "    print(\"Warning: CUDA not available; falling back to CPU but this is likely to be very slow.\")\n",
    "    \n",
    "torch.set_printoptions(precision=3, sci_mode=False)\n",
    "np.set_printoptions(suppress=True)"
   ]
  },
  {
   "cell_type": "code",
   "execution_count": 2,
   "id": "64045658",
   "metadata": {},
   "outputs": [],
   "source": [
    "data = torch.load('../data.pt')\n",
    "\n",
    "for dataset in data:\n",
    "    data[dataset] = data[dataset].float()"
   ]
  },
  {
   "cell_type": "code",
   "execution_count": 3,
   "id": "6665d621",
   "metadata": {},
   "outputs": [],
   "source": [
    "from lib.Baseline import ConditionalGenerator, Critic\n",
    "from lib.Training_wgan import gradient_penalty"
   ]
  },
  {
   "cell_type": "code",
   "execution_count": 4,
   "id": "1cc90a39",
   "metadata": {},
   "outputs": [],
   "source": [
    "hp = {'gp_lambda': 10, 'nsteps_disc': 10, 'batch_size': 64}"
   ]
  },
  {
   "cell_type": "code",
   "execution_count": 5,
   "id": "276a336e",
   "metadata": {},
   "outputs": [],
   "source": [
    "y_length = np.arange(2, 400, 20).tolist()\n",
    "y_length_time = torch.zeros([len(y_length), 25])\n",
    "y_length_memory = torch.zeros([len(y_length), 25])"
   ]
  },
  {
   "cell_type": "code",
   "execution_count": 6,
   "id": "b4148bd4",
   "metadata": {},
   "outputs": [],
   "source": [
    "for i in range(len(y_length)):\n",
    "    \n",
    "    y_length_ = y_length[i]\n",
    "    Y_train = data['Y_train'][:, :y_length_]\n",
    "    \n",
    "    \n",
    "    C = Critic(input_size = [1,1], hidden_size = [32,32], num_layers = [5,5], sep=data['X_train'].shape[1]).float().to(device)\n",
    "    G = ConditionalGenerator(1, 1, 32, 5, 5).float().to('cuda')\n",
    "    \n",
    "    G_optimizer = torch.optim.Adam(G.parameters(), lr=1e-3)\n",
    "    C_optimizer = torch.optim.Adam(C.parameters(), lr=1e-3)\n",
    "\n",
    "    q = Y_train.shape[1]-1\n",
    "\n",
    "    train_dataset = TensorDataset(data['X_train'][:, :, 1:], Y_train[:, :, 1:])\n",
    "    train_dataloader = DataLoader(train_dataset, batch_size = hp['batch_size'], shuffle=True)\n",
    "    infinite_dataloader = (elem for it in iter(lambda: train_dataloader, None) for elem in it)\n",
    "\n",
    "    G, C = G.to(device), C.to(device)\n",
    "\n",
    "    for step in range(25):\n",
    "        start_time = time()\n",
    "        for param in G.parameters():\n",
    "            param.requires_grad = False\n",
    "        for param in C.parameters():\n",
    "            param.requires_grad = True\n",
    "\n",
    "        for _ in range(hp['nsteps_disc']):\n",
    "            C_optimizer.zero_grad()\n",
    "            batch_x, batch_y_real = next(infinite_dataloader)\n",
    "            batch_x, batch_y_real = batch_x.to(device), batch_y_real.to(device)\n",
    "            batch_y_fake = G(batch_x, batch_y_real.shape[1]-1)\n",
    "            batch_real = torch.cat([batch_x, batch_y_real], dim=1)\n",
    "            batch_fake = torch.cat([batch_x, batch_y_fake], dim=1)\n",
    "            fake_score, real_score = torch.mean(C(batch_fake)), torch.mean(C(batch_real))\n",
    "            gp = gradient_penalty(C, batch_real.detach(), batch_fake.detach())\n",
    "            loss = fake_score - real_score + hp['gp_lambda']*gp\n",
    "            loss.backward()\n",
    "            C_optimizer.step()\n",
    "\n",
    "            del batch_x, batch_y_real, batch_y_fake, batch_real, batch_fake\n",
    "\n",
    "        for param in G.parameters():\n",
    "            param.requires_grad = True\n",
    "        for param in C.parameters():\n",
    "            param.requires_grad = False\n",
    "\n",
    "        G_optimizer.zero_grad()\n",
    "        batch_x, batch_y_real = next(infinite_dataloader)\n",
    "        batch_x, batch_y_real = batch_x.to(device), batch_y_real.to(device)\n",
    "        batch_y_fake = G(batch_x, batch_y_real.shape[1]-1)\n",
    "        batch_fake = torch.cat([batch_x, batch_y_fake], dim=1)\n",
    "        fake_score = torch.mean(C(batch_fake))\n",
    "        loss = -fake_score \n",
    "        loss.backward()\n",
    "        G_optimizer.step()\n",
    "\n",
    "        del batch_x, batch_y_real, batch_y_fake, batch_fake\n",
    "        end_time = time()\n",
    "        y_length_time[i, step] = end_time-start_time\n",
    "        y_length_memory[i, step] = torch.cuda.max_memory_allocated(device='cuda')*1e-6\n",
    "        torch.cuda.reset_max_memory_allocated(device='cuda')\n",
    "    "
   ]
  },
  {
   "cell_type": "code",
   "execution_count": 7,
   "id": "3e28d150",
   "metadata": {},
   "outputs": [],
   "source": [
    "torch.save(torch.mean(y_length_time, dim=1), 'y_length_time.pt')"
   ]
  },
  {
   "cell_type": "code",
   "execution_count": 8,
   "id": "09928cb6",
   "metadata": {},
   "outputs": [],
   "source": [
    "torch.save(torch.mean(y_length_memory, dim=1), 'y_length_memory.pt')"
   ]
  }
 ],
 "metadata": {
  "kernelspec": {
   "display_name": "Python 3 (ipykernel)",
   "language": "python",
   "name": "python3"
  },
  "language_info": {
   "codemirror_mode": {
    "name": "ipython",
    "version": 3
   },
   "file_extension": ".py",
   "mimetype": "text/x-python",
   "name": "python",
   "nbconvert_exporter": "python",
   "pygments_lexer": "ipython3",
   "version": "3.8.13"
  }
 },
 "nbformat": 4,
 "nbformat_minor": 5
}
