{
 "cells": [
  {
   "cell_type": "code",
   "execution_count": 1,
   "id": "5a7cfbf1",
   "metadata": {},
   "outputs": [],
   "source": [
    "import sys\n",
    "sys.path.append('../')\n",
    "import torch\n",
    "import pandas as pd\n",
    "import matplotlib.pyplot as plt\n",
    "import numpy as np"
   ]
  },
  {
   "cell_type": "code",
   "execution_count": 4,
   "id": "f3b3f092",
   "metadata": {},
   "outputs": [],
   "source": [
    "data = torch.tensor(np.array(pd.read_csv('../../AR/data/ar data.csv'))[:, 1:]).float()"
   ]
  },
  {
   "cell_type": "code",
   "execution_count": 5,
   "id": "837046f4",
   "metadata": {},
   "outputs": [],
   "source": [
    "pre_train, pre_val, pre_test = data[:15000], data[15000:17500], data[17500:]"
   ]
  },
  {
   "cell_type": "code",
   "execution_count": 6,
   "id": "6956ab31",
   "metadata": {},
   "outputs": [
    {
     "name": "stderr",
     "output_type": "stream",
     "text": [
      "C:\\Users\\pere9\\AppData\\Local\\Temp\\ipykernel_15076\\1448486629.py:5: UserWarning: To copy construct from a tensor, it is recommended to use sourceTensor.clone().detach() or sourceTensor.clone().detach().requires_grad_(True), rather than torch.tensor(sourceTensor).\n",
      "  train.append(torch.tensor(pre_train[i:(i+n_x+n_y)]))\n",
      "C:\\Users\\pere9\\AppData\\Local\\Temp\\ipykernel_15076\\1448486629.py:14: UserWarning: To copy construct from a tensor, it is recommended to use sourceTensor.clone().detach() or sourceTensor.clone().detach().requires_grad_(True), rather than torch.tensor(sourceTensor).\n",
      "  val.append(torch.tensor(pre_val[i:(i+n_x+n_y)]))\n",
      "C:\\Users\\pere9\\AppData\\Local\\Temp\\ipykernel_15076\\1448486629.py:23: UserWarning: To copy construct from a tensor, it is recommended to use sourceTensor.clone().detach() or sourceTensor.clone().detach().requires_grad_(True), rather than torch.tensor(sourceTensor).\n",
      "  test.append(torch.tensor(pre_test[i:(i+n_x+n_y)]))\n"
     ]
    }
   ],
   "source": [
    "n_x, n_y = 600, 40\n",
    "train = []\n",
    "for i in range(0, pre_train.shape[0]-n_x-n_y):\n",
    "    try:\n",
    "        train.append(torch.tensor(pre_train[i:(i+n_x+n_y)]))\n",
    "    except:\n",
    "        pass\n",
    "\n",
    "train = torch.transpose(torch.cat(train, dim=1), 0, 1)\n",
    "\n",
    "val = []\n",
    "for i in range(0, pre_val.shape[0]-n_x-n_y):\n",
    "    try:\n",
    "        val.append(torch.tensor(pre_val[i:(i+n_x+n_y)]))\n",
    "    except:\n",
    "        pass\n",
    "\n",
    "val = torch.transpose(torch.cat(val, dim=1), 0, 1)\n",
    "\n",
    "test = []\n",
    "for i in range(0, pre_test.shape[0]-n_x-n_y):\n",
    "    try:\n",
    "        test.append(torch.tensor(pre_test[i:(i+n_x+n_y)]))\n",
    "    except:\n",
    "        pass\n",
    "\n",
    "test = torch.transpose(torch.cat(test, dim=1), 0,1)"
   ]
  },
  {
   "cell_type": "code",
   "execution_count": 13,
   "id": "b9179c1a",
   "metadata": {},
   "outputs": [],
   "source": [
    "data = {}"
   ]
  },
  {
   "cell_type": "code",
   "execution_count": 14,
   "id": "685afb38",
   "metadata": {},
   "outputs": [],
   "source": [
    "data['X_train'], data['Y_train'] = train[:, :n_x].unsqueeze(2), train[:, (n_x-1):].unsqueeze(2)\n",
    "data['X_val'], data['Y_val'] = val[:, :n_x].unsqueeze(2), val[:, (n_x-1):].unsqueeze(2)\n",
    "data['X_test'], data['Y_test'] = test[:, :n_x].unsqueeze(2), test[:, (n_x-1):].unsqueeze(2)"
   ]
  },
  {
   "cell_type": "code",
   "execution_count": 15,
   "id": "f177fdaa",
   "metadata": {},
   "outputs": [],
   "source": [
    "data['X_train'] = torch.cat([torch.arange(0, data['X_train'].shape[1]).repeat(\n",
    "    data['X_train'].shape[0], 1).unsqueeze(2), data['X_train']], dim=2)\n",
    "\n",
    "data['Y_train'] = torch.cat([torch.arange(0, data['Y_train'].shape[1]).repeat(\n",
    "    data['Y_train'].shape[0], 1).unsqueeze(2), data['Y_train']], dim=2)\n",
    "\n",
    "data['X_val'] = torch.cat([torch.arange(0, data['X_val'].shape[1]).repeat(\n",
    "    data['X_val'].shape[0], 1).unsqueeze(2), data['X_val']], dim=2)\n",
    "\n",
    "data['Y_val'] = torch.cat([torch.arange(0, data['Y_val'].shape[1]).repeat(\n",
    "    data['Y_val'].shape[0], 1).unsqueeze(2), data['Y_val']], dim=2)\n",
    "\n",
    "data['X_test'] = torch.cat([torch.arange(0, data['X_test'].shape[1]).repeat(\n",
    "    data['X_test'].shape[0], 1).unsqueeze(2), data['X_test']], dim=2)\n",
    "\n",
    "data['Y_test'] = torch.cat([torch.arange(0, data['Y_test'].shape[1]).repeat(\n",
    "    data['Y_test'].shape[0], 1).unsqueeze(2), data['Y_test']], dim=2)"
   ]
  },
  {
   "cell_type": "code",
   "execution_count": 17,
   "id": "9ea91b57",
   "metadata": {},
   "outputs": [],
   "source": [
    "mean, std = data['X_train'][:, :, 1].mean(), data['X_train'][:, :, 1].std()"
   ]
  },
  {
   "cell_type": "code",
   "execution_count": 18,
   "id": "18f62a8d",
   "metadata": {},
   "outputs": [],
   "source": [
    "for dataset in data:\n",
    "    data[dataset][:, :, 1] = (data[dataset][:, :, 1]-mean)/std"
   ]
  },
  {
   "cell_type": "code",
   "execution_count": 20,
   "id": "876af606",
   "metadata": {},
   "outputs": [],
   "source": [
    "torch.save(data, 'data.pt')"
   ]
  }
 ],
 "metadata": {
  "kernelspec": {
   "display_name": "Python 3 (ipykernel)",
   "language": "python",
   "name": "python3"
  },
  "language_info": {
   "codemirror_mode": {
    "name": "ipython",
    "version": 3
   },
   "file_extension": ".py",
   "mimetype": "text/x-python",
   "name": "python",
   "nbconvert_exporter": "python",
   "pygments_lexer": "ipython3",
   "version": "3.8.13"
  }
 },
 "nbformat": 4,
 "nbformat_minor": 5
}
