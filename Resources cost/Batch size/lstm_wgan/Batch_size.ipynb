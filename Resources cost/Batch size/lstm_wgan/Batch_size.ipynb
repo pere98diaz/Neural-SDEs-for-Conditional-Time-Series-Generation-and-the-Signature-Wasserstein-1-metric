{
 "cells": [
  {
   "cell_type": "code",
   "execution_count": 1,
   "id": "8783cc66",
   "metadata": {},
   "outputs": [],
   "source": [
    "import sys\n",
    "sys.path.append('../../../')\n",
    "import matplotlib.pyplot as plt\n",
    "import torch\n",
    "from torch.utils.data import TensorDataset, DataLoader\n",
    "import numpy as np\n",
    "from time import time\n",
    "\n",
    "is_cuda = torch.cuda.is_available()\n",
    "device = 'cuda' if is_cuda else 'cpu'\n",
    "if not is_cuda:\n",
    "    print(\"Warning: CUDA not available; falling back to CPU but this is likely to be very slow.\")\n",
    "    \n",
    "torch.set_printoptions(precision=3, sci_mode=False)\n",
    "np.set_printoptions(suppress=True)"
   ]
  },
  {
   "cell_type": "code",
   "execution_count": 2,
   "id": "b94a4681",
   "metadata": {},
   "outputs": [],
   "source": [
    "from lib.Baseline import ConditionalGenerator, Critic\n",
    "from lib.Utilities import get_n_params\n",
    "from lib.Training_wgan import gradient_penalty"
   ]
  },
  {
   "cell_type": "code",
   "execution_count": 3,
   "id": "6477c852",
   "metadata": {},
   "outputs": [],
   "source": [
    "data = torch.load('../../../AR/data/data.pt')\n",
    "\n",
    "for dataset in data:\n",
    "    data[dataset] = data[dataset].float()"
   ]
  },
  {
   "cell_type": "code",
   "execution_count": 4,
   "id": "adf2d0b4",
   "metadata": {},
   "outputs": [
    {
     "name": "stdout",
     "output_type": "stream",
     "text": [
      "Total number of parameters of the Generator:      77089\n",
      "Total number of parameters of the Critic:      76609\n"
     ]
    }
   ],
   "source": [
    "C = Critic(input_size = [1,1], hidden_size = [32,32], num_layers = [5,5], sep=data['X_train'].shape[1]).float().to(device)\n",
    "G = ConditionalGenerator(1, 1, 32, 5, 5).float().to('cuda')\n",
    "\n",
    "print(f\"Total number of parameters of the Generator: {get_n_params(G):10}\")\n",
    "print(f\"Total number of parameters of the Critic: {get_n_params(C):10}\")"
   ]
  },
  {
   "cell_type": "code",
   "execution_count": 5,
   "id": "5a38590e",
   "metadata": {},
   "outputs": [],
   "source": [
    "G_optimizer = torch.optim.RMSprop(G.parameters(), lr=1e-3)\n",
    "C_optimizer = torch.optim.RMSprop(C.parameters(), lr=1e-3)\n",
    "\n",
    "q = data['Y_train'].shape[1]-1"
   ]
  },
  {
   "cell_type": "code",
   "execution_count": 6,
   "id": "9a193217",
   "metadata": {},
   "outputs": [],
   "source": [
    "hp = {'C_optimizer': C_optimizer, 'G_optimizer': G_optimizer, 'gp_lambda': 10, \n",
    "     'nsteps_disc': 10, 'batch_size': 528}"
   ]
  },
  {
   "cell_type": "code",
   "execution_count": 7,
   "id": "a35dde66",
   "metadata": {},
   "outputs": [],
   "source": [
    "batch_size = np.arange(10, 600, 10).tolist()\n",
    "batch_size_time = torch.zeros([len(batch_size), 25])\n",
    "batch_size_memory = torch.zeros([len(batch_size), 25])"
   ]
  },
  {
   "cell_type": "code",
   "execution_count": 8,
   "id": "87f8770f",
   "metadata": {},
   "outputs": [],
   "source": [
    "for i in range(len(batch_size)):\n",
    "    batch_size_ = batch_size[i]\n",
    "    train_dataset = TensorDataset(data['X_train'][:, :, 1:], data['Y_train'][:, :, 1:])\n",
    "    train_dataloader = DataLoader(train_dataset, batch_size = batch_size_, shuffle=True)\n",
    "    infinite_dataloader = (elem for it in iter(lambda: train_dataloader, None) for elem in it)\n",
    "    \n",
    "    G, C = G.to(device), C.to(device)\n",
    "\n",
    "    for step in range(25):\n",
    "        start_time = time()\n",
    "        for param in G.parameters():\n",
    "            param.requires_grad = False\n",
    "        for param in C.parameters():\n",
    "            param.requires_grad = True\n",
    "\n",
    "        for _ in range(hp['nsteps_disc']):\n",
    "            C_optimizer.zero_grad()\n",
    "            batch_x, batch_y_real = next(infinite_dataloader)\n",
    "            batch_x, batch_y_real = batch_x.to(device), batch_y_real.to(device)\n",
    "            batch_y_fake = G(batch_x, batch_y_real.shape[1]-1)\n",
    "            batch_real = torch.cat([batch_x, batch_y_real], dim=1)\n",
    "            batch_fake = torch.cat([batch_x, batch_y_fake], dim=1)\n",
    "            fake_score, real_score = torch.mean(C(batch_fake)), torch.mean(C(batch_real))\n",
    "            gp = gradient_penalty(C, batch_real.detach(), batch_fake.detach())\n",
    "            loss = fake_score - real_score + hp['gp_lambda']*gp\n",
    "            loss.backward()\n",
    "            C_optimizer.step()\n",
    "\n",
    "            del batch_x, batch_y_real, batch_y_fake, batch_real, batch_fake\n",
    "\n",
    "        for param in G.parameters():\n",
    "            param.requires_grad = True\n",
    "        for param in C.parameters():\n",
    "            param.requires_grad = False\n",
    "\n",
    "        G_optimizer.zero_grad()\n",
    "        batch_x, batch_y_real = next(infinite_dataloader)\n",
    "        batch_x, batch_y_real = batch_x.to(device), batch_y_real.to(device)\n",
    "        batch_y_fake = G(batch_x, batch_y_real.shape[1]-1)\n",
    "        batch_fake = torch.cat([batch_x, batch_y_fake], dim=1)\n",
    "        fake_score = torch.mean(C(batch_fake))\n",
    "        loss = -fake_score \n",
    "        loss.backward()\n",
    "        G_optimizer.step()\n",
    "\n",
    "        del batch_x, batch_y_real, batch_y_fake, batch_fake\n",
    "        end_time = time()\n",
    "        batch_size_time[i, step] = end_time-start_time\n",
    "        batch_size_memory[i, step] = torch.cuda.max_memory_allocated(device='cuda')*1e-6\n",
    "        torch.cuda.reset_max_memory_allocated(device='cuda')"
   ]
  },
  {
   "cell_type": "code",
   "execution_count": 9,
   "id": "191d547a",
   "metadata": {},
   "outputs": [],
   "source": [
    "torch.save(batch_size_time, 'batch_size_time.pt')"
   ]
  },
  {
   "cell_type": "code",
   "execution_count": 10,
   "id": "0ea137b3",
   "metadata": {},
   "outputs": [],
   "source": [
    "torch.save(batch_size_memory, 'batch_size_memory.pt')"
   ]
  }
 ],
 "metadata": {
  "kernelspec": {
   "display_name": "Python 3 (ipykernel)",
   "language": "python",
   "name": "python3"
  },
  "language_info": {
   "codemirror_mode": {
    "name": "ipython",
    "version": 3
   },
   "file_extension": ".py",
   "mimetype": "text/x-python",
   "name": "python",
   "nbconvert_exporter": "python",
   "pygments_lexer": "ipython3",
   "version": "3.8.13"
  }
 },
 "nbformat": 4,
 "nbformat_minor": 5
}
