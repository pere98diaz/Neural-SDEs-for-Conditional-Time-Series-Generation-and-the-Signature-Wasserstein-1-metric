{
 "cells": [
  {
   "cell_type": "code",
   "execution_count": 1,
   "id": "bfd29cce",
   "metadata": {},
   "outputs": [],
   "source": [
    "import sys\n",
    "sys.path.append('../../../')\n",
    "import matplotlib.pyplot as plt\n",
    "import torch\n",
    "from torch.utils.data import TensorDataset, DataLoader\n",
    "from tqdm import tqdm\n",
    "import numpy as np\n",
    "from time import time\n",
    "\n",
    "is_cuda = torch.cuda.is_available()\n",
    "device = 'cuda' if is_cuda else 'cpu'\n",
    "if not is_cuda:\n",
    "    print(\"Warning: CUDA not available; falling back to CPU but this is likely to be very slow.\")\n",
    "    \n",
    "torch.set_printoptions(precision=3, sci_mode=False)\n",
    "np.set_printoptions(suppress=True)"
   ]
  },
  {
   "cell_type": "code",
   "execution_count": 2,
   "id": "64045658",
   "metadata": {},
   "outputs": [],
   "source": [
    "data = torch.load('../data.pt')\n",
    "\n",
    "for dataset in data:\n",
    "    data[dataset] = data[dataset].float()"
   ]
  },
  {
   "cell_type": "code",
   "execution_count": 7,
   "id": "6665d621",
   "metadata": {},
   "outputs": [],
   "source": [
    "from lib.Baseline import ConditionalGenerator, Critic\n",
    "from lib.Utilities import get_n_params\n",
    "from lib.Training_wgan import gradient_penalty"
   ]
  },
  {
   "cell_type": "code",
   "execution_count": 4,
   "id": "1cc90a39",
   "metadata": {},
   "outputs": [],
   "source": [
    "hp = {'gp_lambda': 10, 'nsteps_disc': 10, 'batch_size': 64}"
   ]
  },
  {
   "cell_type": "code",
   "execution_count": 5,
   "id": "276a336e",
   "metadata": {},
   "outputs": [],
   "source": [
    "x_length = np.arange(2, 400, 20).tolist()\n",
    "x_length_time = torch.zeros([len(x_length), 25])\n",
    "x_length_memory = torch.zeros([len(x_length), 25])"
   ]
  },
  {
   "cell_type": "code",
   "execution_count": 8,
   "id": "85316bde",
   "metadata": {
    "scrolled": true
   },
   "outputs": [
    {
     "name": "stderr",
     "output_type": "stream",
     "text": [
      "  0%|          | 0/25 [00:00<?, ?it/s]C:\\Users\\pere9\\anaconda3\\envs\\tfm\\lib\\site-packages\\torch\\cuda\\memory.py:260: FutureWarning: torch.cuda.reset_max_memory_allocated now calls torch.cuda.reset_peak_memory_stats, which resets /all/ peak memory stats.\n",
      "  warnings.warn(\n",
      "100%|██████████| 25/25 [01:24<00:00,  3.36s/it]\n",
      "100%|██████████| 25/25 [02:39<00:00,  6.37s/it]\n",
      "100%|██████████| 25/25 [03:55<00:00,  9.42s/it]\n",
      "100%|██████████| 25/25 [05:10<00:00, 12.42s/it]\n",
      "100%|██████████| 25/25 [06:26<00:00, 15.44s/it]\n",
      "100%|██████████| 25/25 [07:39<00:00, 18.40s/it]\n",
      "100%|██████████| 25/25 [08:57<00:00, 21.51s/it]\n",
      "100%|██████████| 25/25 [10:10<00:00, 24.44s/it]\n",
      "100%|██████████| 25/25 [11:19<00:00, 27.19s/it]\n",
      "100%|██████████| 25/25 [12:24<00:00, 29.79s/it]\n",
      "100%|██████████| 25/25 [13:43<00:00, 32.93s/it]\n",
      "100%|██████████| 25/25 [14:57<00:00, 35.91s/it]\n",
      "100%|██████████| 25/25 [16:09<00:00, 38.78s/it]\n",
      "100%|██████████| 25/25 [17:14<00:00, 41.38s/it]\n",
      "100%|██████████| 25/25 [18:36<00:00, 44.64s/it]\n",
      "100%|██████████| 25/25 [19:57<00:00, 47.88s/it]\n",
      "100%|██████████| 25/25 [20:58<00:00, 50.34s/it]\n",
      "100%|██████████| 25/25 [22:04<00:00, 52.97s/it]\n",
      "100%|██████████| 25/25 [23:20<00:00, 56.03s/it]\n",
      "100%|██████████| 25/25 [24:33<00:00, 58.93s/it]\n"
     ]
    }
   ],
   "source": [
    "for i in range(len(x_length)):\n",
    "    \n",
    "    x_length_ = x_length[i]\n",
    "    X_train = data['X_train'][:, -x_length_:]\n",
    "    \n",
    "    \n",
    "    C = Critic(input_size = [1,1], hidden_size = [32,32], num_layers = [5,5], sep=X_train.shape[1]).float().to(device)\n",
    "    G = ConditionalGenerator(1, 1, 32, 5, 5).float().to('cuda')\n",
    "    \n",
    "    G_optimizer = torch.optim.Adam(G.parameters(), lr=1e-3)\n",
    "    C_optimizer = torch.optim.Adam(C.parameters(), lr=1e-3)\n",
    "\n",
    "    q = data['Y_train'].shape[1]-1\n",
    "\n",
    "    train_dataset = TensorDataset(X_train[:, :, 1:], data['Y_train'][:, :, 1:])\n",
    "    train_dataloader = DataLoader(train_dataset, batch_size = hp['batch_size'], shuffle=True)\n",
    "    infinite_dataloader = (elem for it in iter(lambda: train_dataloader, None) for elem in it)\n",
    "\n",
    "    G, C = G.to(device), C.to(device)\n",
    "\n",
    "    trange = tqdm(range(25))\n",
    "    for step in trange:\n",
    "        start_time = time()\n",
    "        for param in G.parameters():\n",
    "            param.requires_grad = False\n",
    "        for param in C.parameters():\n",
    "            param.requires_grad = True\n",
    "\n",
    "        for _ in range(hp['nsteps_disc']):\n",
    "            C_optimizer.zero_grad()\n",
    "            batch_x, batch_y_real = next(infinite_dataloader)\n",
    "            batch_x, batch_y_real = batch_x.to(device), batch_y_real.to(device)\n",
    "            batch_y_fake = G(batch_x, batch_y_real.shape[1]-1)\n",
    "            batch_real = torch.cat([batch_x, batch_y_real], dim=1)\n",
    "            batch_fake = torch.cat([batch_x, batch_y_fake], dim=1)\n",
    "            fake_score, real_score = torch.mean(C(batch_fake)), torch.mean(C(batch_real))\n",
    "            gp = gradient_penalty(C, batch_real.detach(), batch_fake.detach())\n",
    "            loss = fake_score - real_score + hp['gp_lambda']*gp\n",
    "            loss.backward()\n",
    "            C_optimizer.step()\n",
    "\n",
    "            del batch_x, batch_y_real, batch_y_fake, batch_real, batch_fake\n",
    "\n",
    "        for param in G.parameters():\n",
    "            param.requires_grad = True\n",
    "        for param in C.parameters():\n",
    "            param.requires_grad = False\n",
    "\n",
    "        G_optimizer.zero_grad()\n",
    "        batch_x, batch_y_real = next(infinite_dataloader)\n",
    "        batch_x, batch_y_real = batch_x.to(device), batch_y_real.to(device)\n",
    "        batch_y_fake = G(batch_x, batch_y_real.shape[1]-1)\n",
    "        batch_fake = torch.cat([batch_x, batch_y_fake], dim=1)\n",
    "        fake_score = torch.mean(C(batch_fake))\n",
    "        loss = -fake_score \n",
    "        loss.backward()\n",
    "        G_optimizer.step()\n",
    "\n",
    "        del batch_x, batch_y_real, batch_y_fake, batch_fake\n",
    "        end_time = time()\n",
    "        x_length_time[i, step] = end_time-start_time\n",
    "        x_length_memory[i, step] = torch.cuda.max_memory_allocated(device='cuda')*1e-6\n",
    "        torch.cuda.reset_max_memory_allocated(device='cuda')\n",
    "    "
   ]
  },
  {
   "cell_type": "code",
   "execution_count": 9,
   "id": "e80a49f0",
   "metadata": {},
   "outputs": [
    {
     "data": {
      "text/plain": [
       "[<matplotlib.lines.Line2D at 0x1ee66b4d4f0>]"
      ]
     },
     "execution_count": 9,
     "metadata": {},
     "output_type": "execute_result"
    },
    {
     "data": {
      "image/png": "[encoded data removed]",
      "text/plain": [
       "<Figure size 432x288 with 1 Axes>"
      ]
     },
     "metadata": {
      "needs_background": "light"
     },
     "output_type": "display_data"
    }
   ],
   "source": [
    "plt.plot(x_length, torch.mean(x_length_time, dim=1))"
   ]
  },
  {
   "cell_type": "code",
   "execution_count": 10,
   "id": "94d8e95f",
   "metadata": {},
   "outputs": [
    {
     "data": {
      "text/plain": [
       "[<matplotlib.lines.Line2D at 0x1ee82d99d90>]"
      ]
     },
     "execution_count": 10,
     "metadata": {},
     "output_type": "execute_result"
    },
    {
     "data": {
      "image/png": "[encoded data removed]",
      "text/plain": [
       "<Figure size 432x288 with 1 Axes>"
      ]
     },
     "metadata": {
      "needs_background": "light"
     },
     "output_type": "display_data"
    }
   ],
   "source": [
    "plt.plot(x_length, torch.mean(x_length_memory, dim=1))"
   ]
  },
  {
   "cell_type": "code",
   "execution_count": 12,
   "id": "74271515",
   "metadata": {},
   "outputs": [],
   "source": [
    "torch.save(torch.mean(x_length_time, dim=1), 'x_length_time.pt')"
   ]
  },
  {
   "cell_type": "code",
   "execution_count": 11,
   "id": "e31ff5af",
   "metadata": {},
   "outputs": [],
   "source": [
    "torch.save(torch.mean(x_length_memory, dim=1), 'x_length_memory.pt')"
   ]
  }
 ],
 "metadata": {
  "kernelspec": {
   "display_name": "Python 3 (ipykernel)",
   "language": "python",
   "name": "python3"
  },
  "language_info": {
   "codemirror_mode": {
    "name": "ipython",
    "version": 3
   },
   "file_extension": ".py",
   "mimetype": "text/x-python",
   "name": "python",
   "nbconvert_exporter": "python",
   "pygments_lexer": "ipython3",
   "version": "3.8.13"
  }
 },
 "nbformat": 4,
 "nbformat_minor": 5
}
