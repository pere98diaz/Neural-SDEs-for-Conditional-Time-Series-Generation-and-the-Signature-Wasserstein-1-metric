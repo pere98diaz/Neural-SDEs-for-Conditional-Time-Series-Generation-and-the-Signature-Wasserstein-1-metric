{
 "cells": [
  {
   "cell_type": "code",
   "execution_count": 1,
   "id": "fdb62708",
   "metadata": {},
   "outputs": [],
   "source": [
    "import sys\n",
    "sys.path.append('../')\n",
    "import torch\n",
    "import pandas as pd\n",
    "import matplotlib.pyplot as plt\n",
    "import numpy as np\n",
    "\n",
    "pd.options.mode.chained_assignment = None"
   ]
  },
  {
   "cell_type": "code",
   "execution_count": 2,
   "id": "f4b26e61",
   "metadata": {},
   "outputs": [],
   "source": [
    "data = pd.read_csv(\"seattleWeather_1948-2017.csv\")"
   ]
  },
  {
   "cell_type": "code",
   "execution_count": 3,
   "id": "7dee9658",
   "metadata": {},
   "outputs": [],
   "source": [
    "data = data[['DATE', 'TMIN', 'TMAX']]"
   ]
  },
  {
   "cell_type": "code",
   "execution_count": 6,
   "id": "ceebb8fe",
   "metadata": {},
   "outputs": [],
   "source": [
    "tmax = np.array(data[['TMAX', 'DATE']])"
   ]
  },
  {
   "cell_type": "code",
   "execution_count": 9,
   "id": "71d8d590",
   "metadata": {},
   "outputs": [
    {
     "data": {
      "text/plain": [
       "(25551, 2)"
      ]
     },
     "execution_count": 9,
     "metadata": {},
     "output_type": "execute_result"
    }
   ],
   "source": [
    "tmax.shape"
   ]
  },
  {
   "cell_type": "code",
   "execution_count": 11,
   "id": "509d7e2e",
   "metadata": {},
   "outputs": [
    {
     "data": {
      "text/plain": [
       "array(['1948-01-01', '1948-01-02', '1948-01-03', '1948-01-04',\n",
       "       '1948-01-05', '1948-01-06', '1948-01-07', '1948-01-08',\n",
       "       '1948-01-09', '1948-01-10', '1948-01-11', '1948-01-12',\n",
       "       '1948-01-13', '1948-01-14', '1948-01-15', '1948-01-16',\n",
       "       '1948-01-17', '1948-01-18', '1948-01-19', '1948-01-20',\n",
       "       '1948-01-21', '1948-01-22', '1948-01-23', '1948-01-24',\n",
       "       '1948-01-25', '1948-01-26', '1948-01-27', '1948-01-28',\n",
       "       '1948-01-29', '1948-01-30', '1948-01-31', '1948-02-01',\n",
       "       '1948-02-02', '1948-02-03', '1948-02-04', '1948-02-05',\n",
       "       '1948-02-06', '1948-02-07', '1948-02-08', '1948-02-09',\n",
       "       '1948-02-10', '1948-02-11', '1948-02-12', '1948-02-13',\n",
       "       '1948-02-14', '1948-02-15', '1948-02-16', '1948-02-17',\n",
       "       '1948-02-18', '1948-02-19', '1948-02-20', '1948-02-21',\n",
       "       '1948-02-22', '1948-02-23', '1948-02-24', '1948-02-25',\n",
       "       '1948-02-26', '1948-02-27', '1948-02-28', '1948-02-29',\n",
       "       '1948-03-01', '1948-03-02', '1948-03-03', '1948-03-04',\n",
       "       '1948-03-05', '1948-03-06', '1948-03-07', '1948-03-08',\n",
       "       '1948-03-09', '1948-03-10', '1948-03-11', '1948-03-12',\n",
       "       '1948-03-13', '1948-03-14', '1948-03-15', '1948-03-16',\n",
       "       '1948-03-17', '1948-03-18', '1948-03-19', '1948-03-20',\n",
       "       '1948-03-21', '1948-03-22', '1948-03-23', '1948-03-24',\n",
       "       '1948-03-25', '1948-03-26', '1948-03-27', '1948-03-28',\n",
       "       '1948-03-29', '1948-03-30', '1948-03-31', '1948-04-01',\n",
       "       '1948-04-02', '1948-04-03', '1948-04-04', '1948-04-05',\n",
       "       '1948-04-06', '1948-04-07', '1948-04-08', '1948-04-09'],\n",
       "      dtype=object)"
      ]
     },
     "execution_count": 11,
     "metadata": {},
     "output_type": "execute_result"
    }
   ],
   "source": [
    "tmax[:100, 1]"
   ]
  },
  {
   "cell_type": "code",
   "execution_count": 22,
   "id": "50533f58",
   "metadata": {},
   "outputs": [
    {
     "data": {
      "image/png": "[encoded data removed]",
      "text/plain": [
       "<Figure size 432x288 with 1 Axes>"
      ]
     },
     "metadata": {
      "needs_background": "light"
     },
     "output_type": "display_data"
    }
   ],
   "source": [
    "a = plt.plot(tmax[:250, 0], linewidth=0.8, alpha=1)\n",
    "a = plt.xlabel('Days')\n",
    "a= plt.ylabel('Maximum temperature (℉)')\n",
    "a = plt.title('Seattle Weather dataset, subsample')\n",
    "resolution_value = 600\n",
    "plt.savefig(\"seattle wheather subsample.png\", format=\"png\", dpi=resolution_value)"
   ]
  },
  {
   "cell_type": "code",
   "execution_count": 5,
   "id": "bbf4d9c0",
   "metadata": {},
   "outputs": [
    {
     "data": {
      "text/plain": [
       "(25551, 3)"
      ]
     },
     "execution_count": 5,
     "metadata": {},
     "output_type": "execute_result"
    }
   ],
   "source": [
    "data.shape"
   ]
  },
  {
   "cell_type": "code",
   "execution_count": 6,
   "id": "fa6c5b65",
   "metadata": {},
   "outputs": [],
   "source": [
    "data['DATE'] = pd.DatetimeIndex(data['DATE'])"
   ]
  },
  {
   "cell_type": "code",
   "execution_count": 7,
   "id": "87ba2280",
   "metadata": {},
   "outputs": [
    {
     "data": {
      "text/html": [
       "<div>\n",
       "<style scoped>\n",
       "    .dataframe tbody tr th:only-of-type {\n",
       "        vertical-align: middle;\n",
       "    }\n",
       "\n",
       "    .dataframe tbody tr th {\n",
       "        vertical-align: top;\n",
       "    }\n",
       "\n",
       "    .dataframe thead th {\n",
       "        text-align: right;\n",
       "    }\n",
       "</style>\n",
       "<table border=\"1\" class=\"dataframe\">\n",
       "  <thead>\n",
       "    <tr style=\"text-align: right;\">\n",
       "      <th></th>\n",
       "      <th>DATE</th>\n",
       "      <th>TMIN</th>\n",
       "      <th>TMAX</th>\n",
       "    </tr>\n",
       "  </thead>\n",
       "  <tbody>\n",
       "    <tr>\n",
       "      <th>0</th>\n",
       "      <td>1948-01-01</td>\n",
       "      <td>42</td>\n",
       "      <td>51</td>\n",
       "    </tr>\n",
       "    <tr>\n",
       "      <th>1</th>\n",
       "      <td>1948-01-02</td>\n",
       "      <td>36</td>\n",
       "      <td>45</td>\n",
       "    </tr>\n",
       "    <tr>\n",
       "      <th>2</th>\n",
       "      <td>1948-01-03</td>\n",
       "      <td>35</td>\n",
       "      <td>45</td>\n",
       "    </tr>\n",
       "    <tr>\n",
       "      <th>3</th>\n",
       "      <td>1948-01-04</td>\n",
       "      <td>34</td>\n",
       "      <td>45</td>\n",
       "    </tr>\n",
       "    <tr>\n",
       "      <th>4</th>\n",
       "      <td>1948-01-05</td>\n",
       "      <td>32</td>\n",
       "      <td>45</td>\n",
       "    </tr>\n",
       "  </tbody>\n",
       "</table>\n",
       "</div>"
      ],
      "text/plain": [
       "        DATE  TMIN  TMAX\n",
       "0 1948-01-01    42    51\n",
       "1 1948-01-02    36    45\n",
       "2 1948-01-03    35    45\n",
       "3 1948-01-04    34    45\n",
       "4 1948-01-05    32    45"
      ]
     },
     "execution_count": 7,
     "metadata": {},
     "output_type": "execute_result"
    }
   ],
   "source": [
    "data.head()"
   ]
  },
  {
   "cell_type": "code",
   "execution_count": 8,
   "id": "19ec8a77",
   "metadata": {},
   "outputs": [
    {
     "data": {
      "text/html": [
       "<div>\n",
       "<style scoped>\n",
       "    .dataframe tbody tr th:only-of-type {\n",
       "        vertical-align: middle;\n",
       "    }\n",
       "\n",
       "    .dataframe tbody tr th {\n",
       "        vertical-align: top;\n",
       "    }\n",
       "\n",
       "    .dataframe thead th {\n",
       "        text-align: right;\n",
       "    }\n",
       "</style>\n",
       "<table border=\"1\" class=\"dataframe\">\n",
       "  <thead>\n",
       "    <tr style=\"text-align: right;\">\n",
       "      <th></th>\n",
       "      <th>DATE</th>\n",
       "      <th>TMIN</th>\n",
       "      <th>TMAX</th>\n",
       "    </tr>\n",
       "  </thead>\n",
       "  <tbody>\n",
       "    <tr>\n",
       "      <th>25546</th>\n",
       "      <td>2017-12-10</td>\n",
       "      <td>34</td>\n",
       "      <td>49</td>\n",
       "    </tr>\n",
       "    <tr>\n",
       "      <th>25547</th>\n",
       "      <td>2017-12-11</td>\n",
       "      <td>29</td>\n",
       "      <td>49</td>\n",
       "    </tr>\n",
       "    <tr>\n",
       "      <th>25548</th>\n",
       "      <td>2017-12-12</td>\n",
       "      <td>32</td>\n",
       "      <td>46</td>\n",
       "    </tr>\n",
       "    <tr>\n",
       "      <th>25549</th>\n",
       "      <td>2017-12-13</td>\n",
       "      <td>34</td>\n",
       "      <td>48</td>\n",
       "    </tr>\n",
       "    <tr>\n",
       "      <th>25550</th>\n",
       "      <td>2017-12-14</td>\n",
       "      <td>36</td>\n",
       "      <td>50</td>\n",
       "    </tr>\n",
       "  </tbody>\n",
       "</table>\n",
       "</div>"
      ],
      "text/plain": [
       "            DATE  TMIN  TMAX\n",
       "25546 2017-12-10    34    49\n",
       "25547 2017-12-11    29    49\n",
       "25548 2017-12-12    32    46\n",
       "25549 2017-12-13    34    48\n",
       "25550 2017-12-14    36    50"
      ]
     },
     "execution_count": 8,
     "metadata": {},
     "output_type": "execute_result"
    }
   ],
   "source": [
    "data.tail()"
   ]
  },
  {
   "cell_type": "code",
   "execution_count": 9,
   "id": "21b9c61f",
   "metadata": {},
   "outputs": [],
   "source": [
    "data_test = data[pd.DatetimeIndex(data['DATE']).year >= 2000]\n",
    "data_train = data[pd.DatetimeIndex(data['DATE']).year < 2000]"
   ]
  },
  {
   "cell_type": "code",
   "execution_count": 10,
   "id": "78660b32",
   "metadata": {},
   "outputs": [],
   "source": [
    "pre_train = torch.tensor(np.array(data_train[['TMAX']])).unsqueeze(0)\n",
    "pre_test = torch.tensor(np.array(data_test[['TMAX']])).unsqueeze(0)"
   ]
  },
  {
   "cell_type": "code",
   "execution_count": 11,
   "id": "82b3734c",
   "metadata": {},
   "outputs": [
    {
     "data": {
      "text/plain": [
       "torch.Size([1, 18993, 1])"
      ]
     },
     "execution_count": 11,
     "metadata": {},
     "output_type": "execute_result"
    }
   ],
   "source": [
    "pre_train.shape"
   ]
  },
  {
   "cell_type": "code",
   "execution_count": 12,
   "id": "463b8975",
   "metadata": {},
   "outputs": [
    {
     "name": "stderr",
     "output_type": "stream",
     "text": [
      "C:\\Users\\pere9\\AppData\\Local\\Temp\\ipykernel_3724\\1016728292.py:5: UserWarning: To copy construct from a tensor, it is recommended to use sourceTensor.clone().detach() or sourceTensor.clone().detach().requires_grad_(True), rather than torch.tensor(sourceTensor).\n",
      "  train.append(torch.tensor(pre_train[:, i:(i+n_x+n_y), :]))\n",
      "C:\\Users\\pere9\\AppData\\Local\\Temp\\ipykernel_3724\\1016728292.py:14: UserWarning: To copy construct from a tensor, it is recommended to use sourceTensor.clone().detach() or sourceTensor.clone().detach().requires_grad_(True), rather than torch.tensor(sourceTensor).\n",
      "  test.append(torch.tensor(pre_test[:, i:(i+n_x+n_y), :]))\n"
     ]
    }
   ],
   "source": [
    "n_x, n_y = 60, 30\n",
    "train = []\n",
    "for i in range(0, pre_train.shape[1]-n_x-n_y):\n",
    "    try:\n",
    "        train.append(torch.tensor(pre_train[:, i:(i+n_x+n_y), :]))\n",
    "    except:\n",
    "        pass\n",
    "\n",
    "train = torch.cat(train, dim=0)\n",
    "\n",
    "test = []\n",
    "for i in range(0, pre_test.shape[1]-n_x-n_y):\n",
    "    try:\n",
    "        test.append(torch.tensor(pre_test[:, i:(i+n_x+n_y), :]))\n",
    "    except:\n",
    "        pass\n",
    "\n",
    "test = torch.cat(test, dim=0)"
   ]
  },
  {
   "cell_type": "code",
   "execution_count": 13,
   "id": "f07b7bcb",
   "metadata": {},
   "outputs": [],
   "source": [
    "from sklearn.model_selection import train_test_split"
   ]
  },
  {
   "cell_type": "code",
   "execution_count": 14,
   "id": "d0e1fbe5",
   "metadata": {},
   "outputs": [
    {
     "data": {
      "text/plain": [
       "torch.Size([18903, 90, 1])"
      ]
     },
     "execution_count": 14,
     "metadata": {},
     "output_type": "execute_result"
    }
   ],
   "source": [
    "train.shape"
   ]
  },
  {
   "cell_type": "code",
   "execution_count": 15,
   "id": "f73d39a9",
   "metadata": {},
   "outputs": [],
   "source": [
    "train, val = train_test_split(train, test_size=0.20, random_state=42)"
   ]
  },
  {
   "cell_type": "code",
   "execution_count": 16,
   "id": "5a5f1352",
   "metadata": {},
   "outputs": [
    {
     "data": {
      "text/plain": [
       "(torch.Size([15122, 90, 1]),\n",
       " torch.Size([3781, 90, 1]),\n",
       " torch.Size([6468, 90, 1]))"
      ]
     },
     "execution_count": 16,
     "metadata": {},
     "output_type": "execute_result"
    }
   ],
   "source": [
    "train.shape, val.shape, test.shape"
   ]
  },
  {
   "cell_type": "code",
   "execution_count": 17,
   "id": "bc990b28",
   "metadata": {},
   "outputs": [],
   "source": [
    "data = {}"
   ]
  },
  {
   "cell_type": "code",
   "execution_count": 18,
   "id": "91da8e6f",
   "metadata": {},
   "outputs": [],
   "source": [
    "data['X_train'], data['Y_train'] = train[:, :n_x, :].float(), train[:, (n_x-1):, :1].float()\n",
    "data['X_val'], data['Y_val'] = val[:, :n_x, :].float(), val[:, (n_x-1):, :1].float()\n",
    "data['X_test'], data['Y_test'] = test[:, :n_x, :].float(), test[:, (n_x-1):, :1].float()"
   ]
  },
  {
   "cell_type": "code",
   "execution_count": 19,
   "id": "b5ebe7b0",
   "metadata": {},
   "outputs": [],
   "source": [
    "data['X_train'] = torch.cat([torch.arange(0, data['X_train'].shape[1]).repeat(\n",
    "    data['X_train'].shape[0], 1).unsqueeze(2), data['X_train']], dim=2)\n",
    "\n",
    "data['Y_train'] = torch.cat([torch.arange(0, data['Y_train'].shape[1]).repeat(\n",
    "    data['Y_train'].shape[0], 1).unsqueeze(2), data['Y_train']], dim=2)\n",
    "\n",
    "data['X_val'] = torch.cat([torch.arange(0, data['X_val'].shape[1]).repeat(\n",
    "    data['X_val'].shape[0], 1).unsqueeze(2), data['X_val']], dim=2)\n",
    "\n",
    "data['Y_val'] = torch.cat([torch.arange(0, data['Y_val'].shape[1]).repeat(\n",
    "    data['Y_val'].shape[0], 1).unsqueeze(2), data['Y_val']], dim=2)\n",
    "\n",
    "data['X_test'] = torch.cat([torch.arange(0, data['X_test'].shape[1]).repeat(\n",
    "    data['X_test'].shape[0], 1).unsqueeze(2), data['X_test']], dim=2)\n",
    "\n",
    "data['Y_test'] = torch.cat([torch.arange(0, data['Y_test'].shape[1]).repeat(\n",
    "    data['Y_test'].shape[0], 1).unsqueeze(2), data['Y_test']], dim=2)"
   ]
  },
  {
   "cell_type": "code",
   "execution_count": 20,
   "id": "65b26933",
   "metadata": {},
   "outputs": [
    {
     "data": {
      "text/plain": [
       "[<matplotlib.lines.Line2D at 0x18cbcce49d0>]"
      ]
     },
     "execution_count": 20,
     "metadata": {},
     "output_type": "execute_result"
    },
    {
     "data": {
      "image/png": "[encoded data removed]",
      "text/plain": [
       "<Figure size 432x288 with 1 Axes>"
      ]
     },
     "metadata": {
      "needs_background": "light"
     },
     "output_type": "display_data"
    }
   ],
   "source": [
    "plt.plot(data['X_train'][0, :, 1])\n",
    "plt.plot(data['X_train'][0, -1, 0]+data['Y_train'][0, :, 0], data['Y_train'][0, :, 1])"
   ]
  },
  {
   "cell_type": "code",
   "execution_count": 22,
   "id": "3fed36a4",
   "metadata": {},
   "outputs": [],
   "source": [
    "mean, std = data['X_train'][:, :, 1].mean(), data['X_train'][:, :, 1].std()"
   ]
  },
  {
   "cell_type": "code",
   "execution_count": 23,
   "id": "2e5699d0",
   "metadata": {},
   "outputs": [],
   "source": [
    "for dataset in data:\n",
    "    data[dataset][:, :, 1] = (data[dataset][:, :, 1]-mean)/std"
   ]
  },
  {
   "cell_type": "code",
   "execution_count": 24,
   "id": "e2a1e7be",
   "metadata": {},
   "outputs": [
    {
     "data": {
      "text/plain": [
       "[<matplotlib.lines.Line2D at 0x18cde068970>]"
      ]
     },
     "execution_count": 24,
     "metadata": {},
     "output_type": "execute_result"
    },
    {
     "data": {
      "image/png": "[encoded data removed]",
      "text/plain": [
       "<Figure size 432x288 with 1 Axes>"
      ]
     },
     "metadata": {
      "needs_background": "light"
     },
     "output_type": "display_data"
    }
   ],
   "source": [
    "i=100\n",
    "plt.plot(data['X_train'][i, :, 1])\n",
    "plt.plot(data['X_train'][0, -1, 0]+data['Y_train'][0, :, 0], data['Y_train'][i, :, 1])"
   ]
  },
  {
   "cell_type": "code",
   "execution_count": 26,
   "id": "2a72c9ea",
   "metadata": {},
   "outputs": [],
   "source": [
    "stats = {'mean': mean, 'std': std}"
   ]
  },
  {
   "cell_type": "code",
   "execution_count": 28,
   "id": "de9365de",
   "metadata": {},
   "outputs": [],
   "source": [
    "torch.save(stats, 'stats_data.pt')"
   ]
  },
  {
   "cell_type": "code",
   "execution_count": 28,
   "id": "1ae65a31",
   "metadata": {},
   "outputs": [],
   "source": [
    "torch.save(data, 'data.pt')"
   ]
  },
  {
   "cell_type": "markdown",
   "id": "0e874eb6",
   "metadata": {},
   "source": [
    "### Some data analysis"
   ]
  },
  {
   "cell_type": "code",
   "execution_count": 31,
   "id": "aeff7dc2",
   "metadata": {},
   "outputs": [],
   "source": [
    "stats_data = torch.load('stats_data.pt')"
   ]
  },
  {
   "cell_type": "code",
   "execution_count": 44,
   "id": "591e7c3c",
   "metadata": {},
   "outputs": [],
   "source": [
    "x = data['X_train'][:, -1:, 1:]\n",
    "y = data['Y_train'][:, 1:, 1:]"
   ]
  },
  {
   "cell_type": "code",
   "execution_count": 45,
   "id": "a2adbbcb",
   "metadata": {},
   "outputs": [],
   "source": [
    "inc = torch.ones(y.shape)*x\n",
    "inc_ = y-inc\n",
    "inc_max = torch.max(inc_, dim=1)[0].squeeze(1)"
   ]
  },
  {
   "cell_type": "code",
   "execution_count": 46,
   "id": "63ccd3a5",
   "metadata": {},
   "outputs": [
    {
     "data": {
      "image/png": "[encoded data removed]",
      "text/plain": [
       "<Figure size 432x288 with 1 Axes>"
      ]
     },
     "metadata": {
      "needs_background": "light"
     },
     "output_type": "display_data"
    }
   ],
   "source": [
    "a = plt.hist(inc_max.numpy(), bins=100)"
   ]
  },
  {
   "cell_type": "code",
   "execution_count": 48,
   "id": "732405fc",
   "metadata": {},
   "outputs": [
    {
     "data": {
      "text/plain": [
       "2.194481134414673"
      ]
     },
     "execution_count": 48,
     "metadata": {},
     "output_type": "execute_result"
    }
   ],
   "source": [
    "np.quantile(inc_max, 0.95)"
   ]
  },
  {
   "cell_type": "code",
   "execution_count": 41,
   "id": "33972c5f",
   "metadata": {},
   "outputs": [],
   "source": [
    "inc_min = torch.min(inc_, dim=1)[0].squeeze(1)"
   ]
  },
  {
   "cell_type": "code",
   "execution_count": 42,
   "id": "b96086b8",
   "metadata": {},
   "outputs": [
    {
     "data": {
      "image/png": "[encoded data removed]",
      "text/plain": [
       "<Figure size 432x288 with 1 Axes>"
      ]
     },
     "metadata": {
      "needs_background": "light"
     },
     "output_type": "display_data"
    }
   ],
   "source": [
    "a = plt.hist(inc_min.numpy(), bins=100)"
   ]
  },
  {
   "cell_type": "code",
   "execution_count": 49,
   "id": "e52a7958",
   "metadata": {},
   "outputs": [
    {
     "data": {
      "text/plain": [
       "-1.9593582153320312"
      ]
     },
     "execution_count": 49,
     "metadata": {},
     "output_type": "execute_result"
    }
   ],
   "source": [
    "np.quantile(inc_min, 0.05)"
   ]
  },
  {
   "cell_type": "code",
   "execution_count": null,
   "id": "fd6d99ae",
   "metadata": {},
   "outputs": [],
   "source": []
  }
 ],
 "metadata": {
  "kernelspec": {
   "display_name": "Python 3 (ipykernel)",
   "language": "python",
   "name": "python3"
  },
  "language_info": {
   "codemirror_mode": {
    "name": "ipython",
    "version": 3
   },
   "file_extension": ".py",
   "mimetype": "text/x-python",
   "name": "python",
   "nbconvert_exporter": "python",
   "pygments_lexer": "ipython3",
   "version": "3.8.13"
  }
 },
 "nbformat": 4,
 "nbformat_minor": 5
}
